{
 "cells": [
  {
   "cell_type": "code",
   "execution_count": 2,
   "id": "dcae86d0",
   "metadata": {},
   "outputs": [
    {
     "name": "stderr",
     "output_type": "stream",
     "text": [
      "2025-05-22 16:26:02.152148: E external/local_xla/xla/stream_executor/cuda/cuda_fft.cc:485] Unable to register cuFFT factory: Attempting to register factory for plugin cuFFT when one has already been registered\n",
      "2025-05-22 16:26:02.163554: E external/local_xla/xla/stream_executor/cuda/cuda_dnn.cc:8454] Unable to register cuDNN factory: Attempting to register factory for plugin cuDNN when one has already been registered\n",
      "2025-05-22 16:26:02.166929: E external/local_xla/xla/stream_executor/cuda/cuda_blas.cc:1452] Unable to register cuBLAS factory: Attempting to register factory for plugin cuBLAS when one has already been registered\n",
      "2025-05-22 16:26:02.176836: I tensorflow/core/platform/cpu_feature_guard.cc:210] This TensorFlow binary is optimized to use available CPU instructions in performance-critical operations.\n",
      "To enable the following instructions: AVX2 FMA, in other operations, rebuild TensorFlow with the appropriate compiler flags.\n",
      "2025-05-22 16:26:02.780825: W tensorflow/compiler/tf2tensorrt/utils/py_utils.cc:38] TF-TRT Warning: Could not find TensorRT\n"
     ]
    }
   ],
   "source": [
    "%load_ext autoreload\n",
    "%autoreload 2\n",
    "\n",
    "import os\n",
    "import sys\n",
    "import argparse\n",
    "import numpy as np\n",
    "import pandas as pd \n",
    "import seaborn as sns\n",
    "import tensorflow as tf\n",
    "from tensorflow import keras\n",
    "from tensorflow.keras import layers, models\n",
    "from tensorflow.keras.models import load_model\n",
    "from tensorflow.keras.callbacks import ReduceLROnPlateau, EarlyStopping, ModelCheckpoint\n",
    "# from sklearn.metrics import plot_confusion_matrix\n",
    "from sklearn.metrics import confusion_matrix\n",
    "from matplotlib import pyplot as plt\n",
    "\n",
    "\n",
    "notebook_dir = os.getcwd()\n",
    "target_path = os.path.abspath(os.path.join(notebook_dir, '../Python_Code'))\n",
    "sys.path.append(target_path)\n",
    "from dataGenerator import DataGenerator\n",
    "\n",
    "import util\n",
    "\n",
    "# Constants\n",
    "num_classes = 20\n",
    "window_size = 50\n",
    "epoch = 15"
   ]
  },
  {
   "cell_type": "code",
   "execution_count": 3,
   "id": "5ae3f15d",
   "metadata": {},
   "outputs": [
    {
     "name": "stderr",
     "output_type": "stream",
     "text": [
      "WARNING: All log messages before absl::InitializeLog() is called are written to STDERR\n",
      "I0000 00:00:1747941965.097183 2579147 cuda_executor.cc:1015] successful NUMA node read from SysFS had negative value (-1), but there must be at least one NUMA node, so returning NUMA node zero. See more at https://github.com/torvalds/linux/blob/v6.0/Documentation/ABI/testing/sysfs-bus-pci#L344-L355\n",
      "I0000 00:00:1747941965.138765 2579147 cuda_executor.cc:1015] successful NUMA node read from SysFS had negative value (-1), but there must be at least one NUMA node, so returning NUMA node zero. See more at https://github.com/torvalds/linux/blob/v6.0/Documentation/ABI/testing/sysfs-bus-pci#L344-L355\n",
      "I0000 00:00:1747941965.144091 2579147 cuda_executor.cc:1015] successful NUMA node read from SysFS had negative value (-1), but there must be at least one NUMA node, so returning NUMA node zero. See more at https://github.com/torvalds/linux/blob/v6.0/Documentation/ABI/testing/sysfs-bus-pci#L344-L355\n",
      "I0000 00:00:1747941965.148280 2579147 cuda_executor.cc:1015] successful NUMA node read from SysFS had negative value (-1), but there must be at least one NUMA node, so returning NUMA node zero. See more at https://github.com/torvalds/linux/blob/v6.0/Documentation/ABI/testing/sysfs-bus-pci#L344-L355\n",
      "I0000 00:00:1747941965.151027 2579147 cuda_executor.cc:1015] successful NUMA node read from SysFS had negative value (-1), but there must be at least one NUMA node, so returning NUMA node zero. See more at https://github.com/torvalds/linux/blob/v6.0/Documentation/ABI/testing/sysfs-bus-pci#L344-L355\n",
      "I0000 00:00:1747941965.156464 2579147 cuda_executor.cc:1015] successful NUMA node read from SysFS had negative value (-1), but there must be at least one NUMA node, so returning NUMA node zero. See more at https://github.com/torvalds/linux/blob/v6.0/Documentation/ABI/testing/sysfs-bus-pci#L344-L355\n",
      "I0000 00:00:1747941965.278090 2579147 cuda_executor.cc:1015] successful NUMA node read from SysFS had negative value (-1), but there must be at least one NUMA node, so returning NUMA node zero. See more at https://github.com/torvalds/linux/blob/v6.0/Documentation/ABI/testing/sysfs-bus-pci#L344-L355\n",
      "I0000 00:00:1747941965.279235 2579147 cuda_executor.cc:1015] successful NUMA node read from SysFS had negative value (-1), but there must be at least one NUMA node, so returning NUMA node zero. See more at https://github.com/torvalds/linux/blob/v6.0/Documentation/ABI/testing/sysfs-bus-pci#L344-L355\n",
      "I0000 00:00:1747941965.280251 2579147 cuda_executor.cc:1015] successful NUMA node read from SysFS had negative value (-1), but there must be at least one NUMA node, so returning NUMA node zero. See more at https://github.com/torvalds/linux/blob/v6.0/Documentation/ABI/testing/sysfs-bus-pci#L344-L355\n",
      "2025-05-22 16:26:05.281183: I tensorflow/core/common_runtime/gpu/gpu_device.cc:2021] Created device /job:localhost/replica:0/task:0/device:GPU:0 with 1024 MB memory:  -> device: 0, name: NVIDIA GeForce RTX 3060, pci bus id: 0000:07:00.0, compute capability: 8.6\n",
      "WARNING:absl:Compiled the loaded model, but the compiled metrics have yet to be built. `model.compile_metrics` will be empty until you train or evaluate the model.\n"
     ]
    }
   ],
   "source": [
    "model_dir = '../Data/fine_grained/Classroom/80MHz/3mo/Classroom_m1m2m3.h5'\n",
    "model = load_model(model_dir)\n"
   ]
  },
  {
   "cell_type": "code",
   "execution_count": 4,
   "id": "21beba0e",
   "metadata": {},
   "outputs": [],
   "source": [
    "def evaluate_subject_with_data_from(model, test_environment, test_monitor, nr_subcarriers=242):\n",
    "  test_dir = f'../Data/fine_grained/{test_environment}/80MHz/3mo/{test_monitor}/Slots/Test'\n",
    "  test_csv = os.path.join(test_dir, 'test_set.csv')\n",
    "  window_size = 50\n",
    "  labels = ['A', 'B', 'C', 'D', 'E', 'F', 'G', 'H', 'I', 'J', 'K', 'L', 'M', 'N', 'O', 'P', 'Q', 'R', 'S', 'T']\n",
    "\n",
    "  test_gen = DataGenerator(test_dir, test_csv, nr_subcarriers, len(labels), (window_size, nr_subcarriers, 2), batchsize=64, shuffle=False)\n",
    "\n",
    "  final_loss, final_accuracy = model.evaluate(test_gen)\n",
    "  return final_loss, final_accuracy"
   ]
  },
  {
   "cell_type": "code",
   "execution_count": 5,
   "id": "318e22c2",
   "metadata": {},
   "outputs": [
    {
     "name": "stdout",
     "output_type": "stream",
     "text": [
      "Evaluating multi-environment multi-monitor against Classroom m1\n"
     ]
    },
    {
     "name": "stderr",
     "output_type": "stream",
     "text": [
      "/home/diogo/miniconda3/envs/tensorflow/lib/python3.9/site-packages/keras/src/trainers/data_adapters/py_dataset_adapter.py:121: UserWarning: Your `PyDataset` class should call `super().__init__(**kwargs)` in its constructor. `**kwargs` can include `workers`, `use_multiprocessing`, `max_queue_size`. Do not pass these arguments to `fit()`, as they will be ignored.\n",
      "  self._warn_if_super_not_called()\n",
      "WARNING: All log messages before absl::InitializeLog() is called are written to STDERR\n",
      "I0000 00:00:1747942097.697382 2579311 service.cc:146] XLA service 0x76dba800aa50 initialized for platform CUDA (this does not guarantee that XLA will be used). Devices:\n",
      "I0000 00:00:1747942097.697408 2579311 service.cc:154]   StreamExecutor device (0): NVIDIA GeForce RTX 3060, Compute Capability 8.6\n",
      "2025-05-22 16:28:17.711506: I tensorflow/compiler/mlir/tensorflow/utils/dump_mlir_util.cc:268] disabling MLIR crash reproducer, set env var `MLIR_CRASH_REPRODUCER_DIRECTORY` to enable.\n",
      "2025-05-22 16:28:17.782197: I external/local_xla/xla/stream_executor/cuda/cuda_dnn.cc:531] Loaded cuDNN version 8907\n"
     ]
    },
    {
     "name": "stdout",
     "output_type": "stream",
     "text": [
      "\u001b[1m  5/308\u001b[0m \u001b[37m━━━━━━━━━━━━━━━━━━━━\u001b[0m \u001b[1m10s\u001b[0m 34ms/step - accuracy: 1.0000 - loss: 2.7872e-04"
     ]
    },
    {
     "name": "stderr",
     "output_type": "stream",
     "text": [
      "I0000 00:00:1747942098.427198 2579311 device_compiler.h:188] Compiled cluster using XLA!  This line is logged at most once for the lifetime of the process.\n"
     ]
    },
    {
     "name": "stdout",
     "output_type": "stream",
     "text": [
      "\u001b[1m308/308\u001b[0m \u001b[32m━━━━━━━━━━━━━━━━━━━━\u001b[0m\u001b[37m\u001b[0m \u001b[1m15s\u001b[0m 46ms/step - accuracy: 0.9773 - loss: 0.0990\n",
      "Evaluating multi-environment multi-monitor against Classroom m2\n",
      "\u001b[1m  1/295\u001b[0m \u001b[37m━━━━━━━━━━━━━━━━━━━━\u001b[0m \u001b[1m16s\u001b[0m 55ms/step - accuracy: 1.0000 - loss: 2.9290e-04"
     ]
    },
    {
     "name": "stderr",
     "output_type": "stream",
     "text": [
      "/home/diogo/miniconda3/envs/tensorflow/lib/python3.9/site-packages/keras/src/trainers/data_adapters/py_dataset_adapter.py:121: UserWarning: Your `PyDataset` class should call `super().__init__(**kwargs)` in its constructor. `**kwargs` can include `workers`, `use_multiprocessing`, `max_queue_size`. Do not pass these arguments to `fit()`, as they will be ignored.\n",
      "  self._warn_if_super_not_called()\n"
     ]
    },
    {
     "name": "stdout",
     "output_type": "stream",
     "text": [
      "\u001b[1m295/295\u001b[0m \u001b[32m━━━━━━━━━━━━━━━━━━━━\u001b[0m\u001b[37m\u001b[0m \u001b[1m14s\u001b[0m 46ms/step - accuracy: 0.9472 - loss: 0.1828\n",
      "Evaluating multi-environment multi-monitor against Classroom m3\n",
      "\u001b[1m  1/305\u001b[0m \u001b[37m━━━━━━━━━━━━━━━━━━━━\u001b[0m \u001b[1m17s\u001b[0m 58ms/step - accuracy: 0.9688 - loss: 0.0980"
     ]
    },
    {
     "name": "stderr",
     "output_type": "stream",
     "text": [
      "/home/diogo/miniconda3/envs/tensorflow/lib/python3.9/site-packages/keras/src/trainers/data_adapters/py_dataset_adapter.py:121: UserWarning: Your `PyDataset` class should call `super().__init__(**kwargs)` in its constructor. `**kwargs` can include `workers`, `use_multiprocessing`, `max_queue_size`. Do not pass these arguments to `fit()`, as they will be ignored.\n",
      "  self._warn_if_super_not_called()\n"
     ]
    },
    {
     "name": "stdout",
     "output_type": "stream",
     "text": [
      "\u001b[1m305/305\u001b[0m \u001b[32m━━━━━━━━━━━━━━━━━━━━\u001b[0m\u001b[37m\u001b[0m \u001b[1m14s\u001b[0m 46ms/step - accuracy: 0.9423 - loss: 0.3375\n",
      "Evaluating multi-environment multi-monitor against Office m1\n",
      "\u001b[1m  1/479\u001b[0m \u001b[37m━━━━━━━━━━━━━━━━━━━━\u001b[0m \u001b[1m26s\u001b[0m 56ms/step - accuracy: 1.0000 - loss: 3.1664e-06"
     ]
    },
    {
     "name": "stderr",
     "output_type": "stream",
     "text": [
      "/home/diogo/miniconda3/envs/tensorflow/lib/python3.9/site-packages/keras/src/trainers/data_adapters/py_dataset_adapter.py:121: UserWarning: Your `PyDataset` class should call `super().__init__(**kwargs)` in its constructor. `**kwargs` can include `workers`, `use_multiprocessing`, `max_queue_size`. Do not pass these arguments to `fit()`, as they will be ignored.\n",
      "  self._warn_if_super_not_called()\n"
     ]
    },
    {
     "name": "stdout",
     "output_type": "stream",
     "text": [
      "\u001b[1m479/479\u001b[0m \u001b[32m━━━━━━━━━━━━━━━━━━━━\u001b[0m\u001b[37m\u001b[0m \u001b[1m22s\u001b[0m 46ms/step - accuracy: 0.9574 - loss: 0.3912\n",
      "Evaluating multi-environment multi-monitor against Office m2\n",
      "\u001b[1m  1/488\u001b[0m \u001b[37m━━━━━━━━━━━━━━━━━━━━\u001b[0m \u001b[1m24s\u001b[0m 51ms/step - accuracy: 1.0000 - loss: 0.0068"
     ]
    },
    {
     "name": "stderr",
     "output_type": "stream",
     "text": [
      "/home/diogo/miniconda3/envs/tensorflow/lib/python3.9/site-packages/keras/src/trainers/data_adapters/py_dataset_adapter.py:121: UserWarning: Your `PyDataset` class should call `super().__init__(**kwargs)` in its constructor. `**kwargs` can include `workers`, `use_multiprocessing`, `max_queue_size`. Do not pass these arguments to `fit()`, as they will be ignored.\n",
      "  self._warn_if_super_not_called()\n"
     ]
    },
    {
     "name": "stdout",
     "output_type": "stream",
     "text": [
      "\u001b[1m488/488\u001b[0m \u001b[32m━━━━━━━━━━━━━━━━━━━━\u001b[0m\u001b[37m\u001b[0m \u001b[1m22s\u001b[0m 45ms/step - accuracy: 0.9237 - loss: 0.2990\n",
      "Evaluating multi-environment multi-monitor against Office m3\n",
      "\u001b[1m  1/458\u001b[0m \u001b[37m━━━━━━━━━━━━━━━━━━━━\u001b[0m \u001b[1m26s\u001b[0m 58ms/step - accuracy: 1.0000 - loss: 7.9825e-04"
     ]
    },
    {
     "name": "stderr",
     "output_type": "stream",
     "text": [
      "/home/diogo/miniconda3/envs/tensorflow/lib/python3.9/site-packages/keras/src/trainers/data_adapters/py_dataset_adapter.py:121: UserWarning: Your `PyDataset` class should call `super().__init__(**kwargs)` in its constructor. `**kwargs` can include `workers`, `use_multiprocessing`, `max_queue_size`. Do not pass these arguments to `fit()`, as they will be ignored.\n",
      "  self._warn_if_super_not_called()\n"
     ]
    },
    {
     "name": "stdout",
     "output_type": "stream",
     "text": [
      "\u001b[1m458/458\u001b[0m \u001b[32m━━━━━━━━━━━━━━━━━━━━\u001b[0m\u001b[37m\u001b[0m \u001b[1m22s\u001b[0m 47ms/step - accuracy: 0.9624 - loss: 0.1625\n"
     ]
    }
   ],
   "source": [
    "test_environments  = ['Classroom', 'Office']\n",
    "test_monitors  = ['m1', 'm2', 'm3']\n",
    "\n",
    "results = {'test_environments': [], 'test_monitors': [], 'final_loss': [], 'final_accuracy': []}\n",
    "for test_environment in test_environments:\n",
    "  for test_monitor in test_monitors:\n",
    "    print(f\"Evaluating multi-environment multi-monitor against {test_environment} {test_monitor}\")\n",
    "    final_loss, final_accuracy = evaluate_subject_with_data_from(model, test_environment, test_monitor)\n",
    "    results['test_environments'].append(test_environment)\n",
    "    results['test_monitors'].append(test_monitor)\n",
    "    results['final_loss'].append(final_loss)\n",
    "    results['final_accuracy'].append(final_accuracy)"
   ]
  },
  {
   "cell_type": "code",
   "execution_count": 6,
   "id": "3c4ec495",
   "metadata": {},
   "outputs": [
    {
     "data": {
      "text/html": [
       "<div>\n",
       "<style scoped>\n",
       "    .dataframe tbody tr th:only-of-type {\n",
       "        vertical-align: middle;\n",
       "    }\n",
       "\n",
       "    .dataframe tbody tr th {\n",
       "        vertical-align: top;\n",
       "    }\n",
       "\n",
       "    .dataframe thead th {\n",
       "        text-align: right;\n",
       "    }\n",
       "</style>\n",
       "<table border=\"1\" class=\"dataframe\">\n",
       "  <thead>\n",
       "    <tr style=\"text-align: right;\">\n",
       "      <th></th>\n",
       "      <th>test_environments</th>\n",
       "      <th>test_monitors</th>\n",
       "      <th>final_loss</th>\n",
       "      <th>final_accuracy</th>\n",
       "    </tr>\n",
       "  </thead>\n",
       "  <tbody>\n",
       "    <tr>\n",
       "      <th>0</th>\n",
       "      <td>Classroom</td>\n",
       "      <td>m1</td>\n",
       "      <td>0.124112</td>\n",
       "      <td>0.973214</td>\n",
       "    </tr>\n",
       "    <tr>\n",
       "      <th>1</th>\n",
       "      <td>Classroom</td>\n",
       "      <td>m2</td>\n",
       "      <td>0.127911</td>\n",
       "      <td>0.962553</td>\n",
       "    </tr>\n",
       "    <tr>\n",
       "      <th>2</th>\n",
       "      <td>Classroom</td>\n",
       "      <td>m3</td>\n",
       "      <td>0.317072</td>\n",
       "      <td>0.945441</td>\n",
       "    </tr>\n",
       "    <tr>\n",
       "      <th>3</th>\n",
       "      <td>Office</td>\n",
       "      <td>m1</td>\n",
       "      <td>0.325611</td>\n",
       "      <td>0.956485</td>\n",
       "    </tr>\n",
       "    <tr>\n",
       "      <th>4</th>\n",
       "      <td>Office</td>\n",
       "      <td>m2</td>\n",
       "      <td>0.253615</td>\n",
       "      <td>0.933049</td>\n",
       "    </tr>\n",
       "    <tr>\n",
       "      <th>5</th>\n",
       "      <td>Office</td>\n",
       "      <td>m3</td>\n",
       "      <td>0.183535</td>\n",
       "      <td>0.952306</td>\n",
       "    </tr>\n",
       "  </tbody>\n",
       "</table>\n",
       "</div>"
      ],
      "text/plain": [
       "  test_environments test_monitors  final_loss  final_accuracy\n",
       "0         Classroom            m1    0.124112        0.973214\n",
       "1         Classroom            m2    0.127911        0.962553\n",
       "2         Classroom            m3    0.317072        0.945441\n",
       "3            Office            m1    0.325611        0.956485\n",
       "4            Office            m2    0.253615        0.933049\n",
       "5            Office            m3    0.183535        0.952306"
      ]
     },
     "execution_count": 6,
     "metadata": {},
     "output_type": "execute_result"
    }
   ],
   "source": [
    "results_df = pd.DataFrame(results)\n",
    "results_df.to_csv('SAIDAS/07-results_fine_grained_multimonitor_multienvironment.csv', index=False)\n",
    "results_df"
   ]
  },
  {
   "cell_type": "code",
   "execution_count": 10,
   "id": "0c2d87d0",
   "metadata": {},
   "outputs": [
    {
     "data": {
      "image/png": "[encoded data removed]",
      "text/plain": [
       "<Figure size 800x400 with 1 Axes>"
      ]
     },
     "metadata": {},
     "output_type": "display_data"
    },
    {
     "data": {
      "text/html": [
       "<div>\n",
       "<style scoped>\n",
       "    .dataframe tbody tr th:only-of-type {\n",
       "        vertical-align: middle;\n",
       "    }\n",
       "\n",
       "    .dataframe tbody tr th {\n",
       "        vertical-align: top;\n",
       "    }\n",
       "\n",
       "    .dataframe thead th {\n",
       "        text-align: right;\n",
       "    }\n",
       "</style>\n",
       "<table border=\"1\" class=\"dataframe\">\n",
       "  <thead>\n",
       "    <tr style=\"text-align: right;\">\n",
       "      <th></th>\n",
       "      <th>test_environments</th>\n",
       "      <th>test_monitors</th>\n",
       "      <th>final_loss</th>\n",
       "      <th>final_accuracy</th>\n",
       "    </tr>\n",
       "  </thead>\n",
       "  <tbody>\n",
       "    <tr>\n",
       "      <th>0</th>\n",
       "      <td>Classroom</td>\n",
       "      <td>m1</td>\n",
       "      <td>0.124112</td>\n",
       "      <td>0.973214</td>\n",
       "    </tr>\n",
       "    <tr>\n",
       "      <th>1</th>\n",
       "      <td>Classroom</td>\n",
       "      <td>m2</td>\n",
       "      <td>0.127911</td>\n",
       "      <td>0.962553</td>\n",
       "    </tr>\n",
       "    <tr>\n",
       "      <th>2</th>\n",
       "      <td>Classroom</td>\n",
       "      <td>m3</td>\n",
       "      <td>0.317072</td>\n",
       "      <td>0.945441</td>\n",
       "    </tr>\n",
       "    <tr>\n",
       "      <th>3</th>\n",
       "      <td>Office</td>\n",
       "      <td>m1</td>\n",
       "      <td>0.325611</td>\n",
       "      <td>0.956485</td>\n",
       "    </tr>\n",
       "    <tr>\n",
       "      <th>4</th>\n",
       "      <td>Office</td>\n",
       "      <td>m2</td>\n",
       "      <td>0.253615</td>\n",
       "      <td>0.933049</td>\n",
       "    </tr>\n",
       "    <tr>\n",
       "      <th>5</th>\n",
       "      <td>Office</td>\n",
       "      <td>m3</td>\n",
       "      <td>0.183535</td>\n",
       "      <td>0.952306</td>\n",
       "    </tr>\n",
       "  </tbody>\n",
       "</table>\n",
       "</div>"
      ],
      "text/plain": [
       "  test_environments test_monitors  final_loss  final_accuracy\n",
       "0         Classroom            m1    0.124112        0.973214\n",
       "1         Classroom            m2    0.127911        0.962553\n",
       "2         Classroom            m3    0.317072        0.945441\n",
       "3            Office            m1    0.325611        0.956485\n",
       "4            Office            m2    0.253615        0.933049\n",
       "5            Office            m3    0.183535        0.952306"
      ]
     },
     "metadata": {},
     "output_type": "display_data"
    }
   ],
   "source": [
    "def plot_fig12_serah(df):\n",
    "\n",
    "  # Configurações\n",
    "  test_environments = ['Classroom', 'Office']\n",
    "  test_monitors = ['m1', 'm2', 'm3']\n",
    "  hatches = ['//', '\\\\\\\\']  # Padrões de hachura\n",
    "  colors = ['cyan', 'blue']  # Cores de contorno\n",
    "  bar_width = 0.2\n",
    "\n",
    "  x = np.arange(len(test_monitors))  \n",
    "\n",
    "  fig, ax = plt.subplots(figsize=(8, 4))\n",
    "\n",
    "  # Plot\n",
    "  for i, test_monitor in enumerate(test_monitors):\n",
    "    for j, test_environment in enumerate(test_environments):\n",
    "      accuracy = df[(df['test_monitors'] == test_monitor) & (df['test_environments'] == test_environment)]['final_accuracy'].item() * 100\n",
    "      # print( f\"Accuracy for {train_environment} {train_monitor}: {accuracy}\")\n",
    "      bars = ax.bar(i + i*bar_width + j*bar_width, accuracy, width=bar_width,  hatch=hatches[j], color='none', edgecolor=colors[j])\n",
    "\n",
    "      # Adicionar o valor percentual acima de cada barra\n",
    "      for bar in bars:\n",
    "        height = bar.get_height()\n",
    "        ax.text(bar.get_x() + bar.get_width()/2, height + 1, f'{height:.1f}%', ha='center', va='bottom', fontsize=8)\n",
    "\n",
    "  # Customizações\n",
    "  ax.set_ylabel('Accuracy (%)')\n",
    "  ax.set_xticks(x + bar_width)\n",
    "  ax.set_xticklabels(['M1', 'M2', 'M3'])\n",
    "  ax.legend(labels=test_environments, loc='upper center')\n",
    "  ax.set_ylim(80, 105)\n",
    "  ax.grid(axis='y', linestyle='--', alpha=0.7)\n",
    "\n",
    "  plt.tight_layout()\n",
    "  plt.title('Performance when trained with unified dataset and evaluated with data of specific monitor and environment')\n",
    "  plt.show()\n",
    "  display(df)\n",
    "\n",
    "\n",
    "plot_fig12_serah(results_df)\n"
   ]
  }
 ],
 "metadata": {
  "kernelspec": {
   "display_name": "tensorflow",
   "language": "python",
   "name": "python3"
  },
  "language_info": {
   "codemirror_mode": {
    "name": "ipython",
    "version": 3
   },
   "file_extension": ".py",
   "mimetype": "text/x-python",
   "name": "python",
   "nbconvert_exporter": "python",
   "pygments_lexer": "ipython3",
   "version": "3.9.19"
  }
 },
 "nbformat": 4,
 "nbformat_minor": 5
}
