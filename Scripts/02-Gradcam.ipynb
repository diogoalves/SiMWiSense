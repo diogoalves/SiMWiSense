{
 "cells": [
  {
   "cell_type": "code",
   "execution_count": 1,
   "metadata": {},
   "outputs": [
    {
     "name": "stderr",
     "output_type": "stream",
     "text": [
      "2025-05-17 11:37:13.551822: E external/local_xla/xla/stream_executor/cuda/cuda_fft.cc:485] Unable to register cuFFT factory: Attempting to register factory for plugin cuFFT when one has already been registered\n",
      "2025-05-17 11:37:13.660207: E external/local_xla/xla/stream_executor/cuda/cuda_dnn.cc:8454] Unable to register cuDNN factory: Attempting to register factory for plugin cuDNN when one has already been registered\n",
      "2025-05-17 11:37:13.675950: E external/local_xla/xla/stream_executor/cuda/cuda_blas.cc:1452] Unable to register cuBLAS factory: Attempting to register factory for plugin cuBLAS when one has already been registered\n",
      "2025-05-17 11:37:13.849619: I tensorflow/core/platform/cpu_feature_guard.cc:210] This TensorFlow binary is optimized to use available CPU instructions in performance-critical operations.\n",
      "To enable the following instructions: AVX2 FMA, in other operations, rebuild TensorFlow with the appropriate compiler flags.\n",
      "2025-05-17 11:37:14.896989: W tensorflow/compiler/tf2tensorrt/utils/py_utils.cc:38] TF-TRT Warning: Could not find TensorRT\n"
     ]
    }
   ],
   "source": [
    "%load_ext autoreload\n",
    "%autoreload 2\n",
    "\n",
    "import os\n",
    "import sys\n",
    "import time\n",
    "import pandas as pd\n",
    "import numpy as np\n",
    "# import seaborn as sns\n",
    "import tensorflow as tf\n",
    "import gc\n",
    "# import cv2\n",
    "from tqdm import tqdm\n",
    "# from tensorflow import keras\n",
    "# from tensorflow.keras import layers, models\n",
    "from tensorflow.keras.models import load_model\n",
    "# from tensorflow.keras.callbacks import ReduceLROnPlateau, EarlyStopping, ModelCheckpoint\n",
    "\n",
    "# from matplotlib import pyplot as plt\n",
    "\n",
    "\n",
    "notebook_dir = os.getcwd()\n",
    "target_path = os.path.abspath(os.path.join(notebook_dir, '../Python_Code'))\n",
    "sys.path.append(target_path)\n",
    "from dataGenerator import DataGenerator\n",
    "\n",
    "import util"
   ]
  },
  {
   "cell_type": "code",
   "execution_count": 2,
   "metadata": {},
   "outputs": [],
   "source": [
    "csvs = pd.read_csv('../EDA/SAIDAS/04-csv_summary.csv', usecols=['test', 'environment', 'monitor', 'slot', 'csv_file_path'])\n",
    "csvs.drop_duplicates(inplace=True)\n",
    "csvs = csvs.loc[(csvs['test']=='proximity')&(csvs['slot'].str.contains(\"Test\"))]\n",
    "csvs.reset_index(drop=True, inplace=True)"
   ]
  },
  {
   "cell_type": "code",
   "execution_count": 46,
   "metadata": {},
   "outputs": [
    {
     "name": "stderr",
     "output_type": "stream",
     "text": [
      "WARNING:absl:Compiled the loaded model, but the compiled metrics have yet to be built. `model.compile_metrics` will be empty until you train or evaluate the model.\n"
     ]
    },
    {
     "name": "stdout",
     "output_type": "stream",
     "text": [
      "Processing ../Data/proximity/Classroom/80MHz/3mo/m1/Slots/Test_m1/test_set.csv with model ../Data/proximity/Classroom/80MHz/3mo/m1/Classroom_m1_m1.h5\n"
     ]
    },
    {
     "name": "stderr",
     "output_type": "stream",
     "text": [
      "  0%|          | 0/19749 [00:00<?, ?it/s]/home/diogo/miniconda3/envs/tensorflow/lib/python3.9/site-packages/keras/src/models/functional.py:238: UserWarning: The structure of `inputs` doesn't match the expected structure.\n",
      "Expected: ['input_layer']\n",
      "Received: inputs=Tensor(shape=(1, 50, 242, 2))\n",
      "  warnings.warn(msg)\n",
      "100%|██████████| 19749/19749 [08:24<00:00, 39.12it/s]\n",
      "WARNING:absl:Compiled the loaded model, but the compiled metrics have yet to be built. `model.compile_metrics` will be empty until you train or evaluate the model.\n"
     ]
    },
    {
     "name": "stdout",
     "output_type": "stream",
     "text": [
      "Processing ../Data/proximity/Classroom/80MHz/3mo/m1/Slots/Test_m2/test_set.csv with model ../Data/proximity/Classroom/80MHz/3mo/m1/Classroom_m1_m2.h5\n"
     ]
    },
    {
     "name": "stderr",
     "output_type": "stream",
     "text": [
      "  0%|          | 0/19084 [00:00<?, ?it/s]/home/diogo/miniconda3/envs/tensorflow/lib/python3.9/site-packages/keras/src/models/functional.py:238: UserWarning: The structure of `inputs` doesn't match the expected structure.\n",
      "Expected: ['input_layer']\n",
      "Received: inputs=Tensor(shape=(1, 50, 242, 2))\n",
      "  warnings.warn(msg)\n",
      "100%|██████████| 19084/19084 [08:20<00:00, 38.12it/s]\n",
      "WARNING:absl:Compiled the loaded model, but the compiled metrics have yet to be built. `model.compile_metrics` will be empty until you train or evaluate the model.\n"
     ]
    },
    {
     "name": "stdout",
     "output_type": "stream",
     "text": [
      "Processing ../Data/proximity/Classroom/80MHz/3mo/m1/Slots/Test_m3/test_set.csv with model ../Data/proximity/Classroom/80MHz/3mo/m1/Classroom_m1_m3.h5\n"
     ]
    },
    {
     "name": "stderr",
     "output_type": "stream",
     "text": [
      "  0%|          | 0/19084 [00:00<?, ?it/s]/home/diogo/miniconda3/envs/tensorflow/lib/python3.9/site-packages/keras/src/models/functional.py:238: UserWarning: The structure of `inputs` doesn't match the expected structure.\n",
      "Expected: ['input_layer']\n",
      "Received: inputs=Tensor(shape=(1, 50, 242, 2))\n",
      "  warnings.warn(msg)\n",
      "100%|██████████| 19084/19084 [08:08<00:00, 39.04it/s]\n",
      "WARNING:absl:Compiled the loaded model, but the compiled metrics have yet to be built. `model.compile_metrics` will be empty until you train or evaluate the model.\n"
     ]
    },
    {
     "name": "stdout",
     "output_type": "stream",
     "text": [
      "Processing ../Data/proximity/Classroom/80MHz/3mo/m2/Slots/Test_m1/test_set.csv with model ../Data/proximity/Classroom/80MHz/3mo/m2/Classroom_m2_m1.h5\n"
     ]
    },
    {
     "name": "stderr",
     "output_type": "stream",
     "text": [
      "  0%|          | 0/19587 [00:00<?, ?it/s]/home/diogo/miniconda3/envs/tensorflow/lib/python3.9/site-packages/keras/src/models/functional.py:238: UserWarning: The structure of `inputs` doesn't match the expected structure.\n",
      "Expected: ['input_layer']\n",
      "Received: inputs=Tensor(shape=(1, 50, 242, 2))\n",
      "  warnings.warn(msg)\n",
      "100%|██████████| 19587/19587 [08:55<00:00, 36.57it/s]\n",
      "WARNING:absl:Compiled the loaded model, but the compiled metrics have yet to be built. `model.compile_metrics` will be empty until you train or evaluate the model.\n"
     ]
    },
    {
     "name": "stdout",
     "output_type": "stream",
     "text": [
      "Processing ../Data/proximity/Classroom/80MHz/3mo/m2/Slots/Test_m2/test_set.csv with model ../Data/proximity/Classroom/80MHz/3mo/m2/Classroom_m2_m2.h5\n"
     ]
    },
    {
     "name": "stderr",
     "output_type": "stream",
     "text": [
      "  0%|          | 0/18930 [00:00<?, ?it/s]/home/diogo/miniconda3/envs/tensorflow/lib/python3.9/site-packages/keras/src/models/functional.py:238: UserWarning: The structure of `inputs` doesn't match the expected structure.\n",
      "Expected: ['input_layer']\n",
      "Received: inputs=Tensor(shape=(1, 50, 242, 2))\n",
      "  warnings.warn(msg)\n",
      "100%|██████████| 18930/18930 [08:12<00:00, 38.43it/s]\n",
      "WARNING:absl:Compiled the loaded model, but the compiled metrics have yet to be built. `model.compile_metrics` will be empty until you train or evaluate the model.\n"
     ]
    },
    {
     "name": "stdout",
     "output_type": "stream",
     "text": [
      "Processing ../Data/proximity/Classroom/80MHz/3mo/m2/Slots/Test_m3/test_set.csv with model ../Data/proximity/Classroom/80MHz/3mo/m2/Classroom_m2_m3.h5\n"
     ]
    },
    {
     "name": "stderr",
     "output_type": "stream",
     "text": [
      "  0%|          | 0/18930 [00:00<?, ?it/s]/home/diogo/miniconda3/envs/tensorflow/lib/python3.9/site-packages/keras/src/models/functional.py:238: UserWarning: The structure of `inputs` doesn't match the expected structure.\n",
      "Expected: ['input_layer']\n",
      "Received: inputs=Tensor(shape=(1, 50, 242, 2))\n",
      "  warnings.warn(msg)\n",
      "100%|██████████| 18930/18930 [08:04<00:00, 39.05it/s]\n",
      "WARNING:absl:Compiled the loaded model, but the compiled metrics have yet to be built. `model.compile_metrics` will be empty until you train or evaluate the model.\n"
     ]
    },
    {
     "name": "stdout",
     "output_type": "stream",
     "text": [
      "Processing ../Data/proximity/Classroom/80MHz/3mo/m3/Slots/Test_m1/test_set.csv with model ../Data/proximity/Classroom/80MHz/3mo/m3/Classroom_m3_m1.h5\n"
     ]
    },
    {
     "name": "stderr",
     "output_type": "stream",
     "text": [
      "  0%|          | 0/20219 [00:00<?, ?it/s]/home/diogo/miniconda3/envs/tensorflow/lib/python3.9/site-packages/keras/src/models/functional.py:238: UserWarning: The structure of `inputs` doesn't match the expected structure.\n",
      "Expected: ['input_layer']\n",
      "Received: inputs=Tensor(shape=(1, 50, 242, 2))\n",
      "  warnings.warn(msg)\n",
      "100%|██████████| 20219/20219 [08:57<00:00, 37.60it/s]\n",
      "WARNING:absl:Compiled the loaded model, but the compiled metrics have yet to be built. `model.compile_metrics` will be empty until you train or evaluate the model.\n"
     ]
    },
    {
     "name": "stdout",
     "output_type": "stream",
     "text": [
      "Processing ../Data/proximity/Classroom/80MHz/3mo/m3/Slots/Test_m2/test_set.csv with model ../Data/proximity/Classroom/80MHz/3mo/m3/Classroom_m3_m2.h5\n"
     ]
    },
    {
     "name": "stderr",
     "output_type": "stream",
     "text": [
      "  0%|          | 0/19541 [00:00<?, ?it/s]/home/diogo/miniconda3/envs/tensorflow/lib/python3.9/site-packages/keras/src/models/functional.py:238: UserWarning: The structure of `inputs` doesn't match the expected structure.\n",
      "Expected: ['input_layer']\n",
      "Received: inputs=Tensor(shape=(1, 50, 242, 2))\n",
      "  warnings.warn(msg)\n",
      "100%|██████████| 19541/19541 [08:21<00:00, 38.97it/s]\n",
      "WARNING:absl:Compiled the loaded model, but the compiled metrics have yet to be built. `model.compile_metrics` will be empty until you train or evaluate the model.\n"
     ]
    },
    {
     "name": "stdout",
     "output_type": "stream",
     "text": [
      "Processing ../Data/proximity/Classroom/80MHz/3mo/m3/Slots/Test_m3/test_set.csv with model ../Data/proximity/Classroom/80MHz/3mo/m3/Classroom_m3_m3.h5\n"
     ]
    },
    {
     "name": "stderr",
     "output_type": "stream",
     "text": [
      "  0%|          | 0/19541 [00:00<?, ?it/s]/home/diogo/miniconda3/envs/tensorflow/lib/python3.9/site-packages/keras/src/models/functional.py:238: UserWarning: The structure of `inputs` doesn't match the expected structure.\n",
      "Expected: ['input_layer']\n",
      "Received: inputs=Tensor(shape=(1, 50, 242, 2))\n",
      "  warnings.warn(msg)\n",
      "100%|██████████| 19541/19541 [08:30<00:00, 38.30it/s]\n",
      "WARNING:absl:Compiled the loaded model, but the compiled metrics have yet to be built. `model.compile_metrics` will be empty until you train or evaluate the model.\n"
     ]
    },
    {
     "name": "stdout",
     "output_type": "stream",
     "text": [
      "Processing ../Data/proximity/Office/80MHz/3mo/m1/Slots/Test_m1/test_set.csv with model ../Data/proximity/Office/80MHz/3mo/m1/Office_m1_m1.h5\n"
     ]
    },
    {
     "name": "stderr",
     "output_type": "stream",
     "text": [
      "  0%|          | 0/30679 [00:00<?, ?it/s]/home/diogo/miniconda3/envs/tensorflow/lib/python3.9/site-packages/keras/src/models/functional.py:238: UserWarning: The structure of `inputs` doesn't match the expected structure.\n",
      "Expected: ['input_layer']\n",
      "Received: inputs=Tensor(shape=(1, 50, 242, 2))\n",
      "  warnings.warn(msg)\n",
      "100%|██████████| 30679/30679 [13:58<00:00, 36.57it/s]\n",
      "WARNING:absl:Compiled the loaded model, but the compiled metrics have yet to be built. `model.compile_metrics` will be empty until you train or evaluate the model.\n"
     ]
    },
    {
     "name": "stdout",
     "output_type": "stream",
     "text": [
      "Processing ../Data/proximity/Office/80MHz/3mo/m1/Slots/Test_m2/test_set.csv with model ../Data/proximity/Office/80MHz/3mo/m1/Office_m1_m2.h5\n"
     ]
    },
    {
     "name": "stderr",
     "output_type": "stream",
     "text": [
      "  0%|          | 0/29648 [00:00<?, ?it/s]/home/diogo/miniconda3/envs/tensorflow/lib/python3.9/site-packages/keras/src/models/functional.py:238: UserWarning: The structure of `inputs` doesn't match the expected structure.\n",
      "Expected: ['input_layer']\n",
      "Received: inputs=Tensor(shape=(1, 50, 242, 2))\n",
      "  warnings.warn(msg)\n",
      "100%|██████████| 29648/29648 [13:48<00:00, 35.77it/s]\n",
      "WARNING:absl:Compiled the loaded model, but the compiled metrics have yet to be built. `model.compile_metrics` will be empty until you train or evaluate the model.\n"
     ]
    },
    {
     "name": "stdout",
     "output_type": "stream",
     "text": [
      "Processing ../Data/proximity/Office/80MHz/3mo/m1/Slots/Test_m3/test_set.csv with model ../Data/proximity/Office/80MHz/3mo/m1/Office_m1_m3.h5\n"
     ]
    },
    {
     "name": "stderr",
     "output_type": "stream",
     "text": [
      "  0%|          | 0/29648 [00:00<?, ?it/s]/home/diogo/miniconda3/envs/tensorflow/lib/python3.9/site-packages/keras/src/models/functional.py:238: UserWarning: The structure of `inputs` doesn't match the expected structure.\n",
      "Expected: ['input_layer']\n",
      "Received: inputs=Tensor(shape=(1, 50, 242, 2))\n",
      "  warnings.warn(msg)\n",
      "100%|██████████| 29648/29648 [15:32<00:00, 31.78it/s]\n",
      "WARNING:absl:Compiled the loaded model, but the compiled metrics have yet to be built. `model.compile_metrics` will be empty until you train or evaluate the model.\n"
     ]
    },
    {
     "name": "stdout",
     "output_type": "stream",
     "text": [
      "Processing ../Data/proximity/Office/80MHz/3mo/m2/Slots/Test_m1/test_set.csv with model ../Data/proximity/Office/80MHz/3mo/m2/Office_m2_m1.h5\n"
     ]
    },
    {
     "name": "stderr",
     "output_type": "stream",
     "text": [
      "  0%|          | 0/32365 [00:00<?, ?it/s]/home/diogo/miniconda3/envs/tensorflow/lib/python3.9/site-packages/keras/src/models/functional.py:238: UserWarning: The structure of `inputs` doesn't match the expected structure.\n",
      "Expected: ['input_layer']\n",
      "Received: inputs=Tensor(shape=(1, 50, 242, 2))\n",
      "  warnings.warn(msg)\n",
      "100%|██████████| 32365/32365 [15:53<00:00, 33.95it/s]\n",
      "WARNING:absl:Compiled the loaded model, but the compiled metrics have yet to be built. `model.compile_metrics` will be empty until you train or evaluate the model.\n"
     ]
    },
    {
     "name": "stdout",
     "output_type": "stream",
     "text": [
      "Processing ../Data/proximity/Office/80MHz/3mo/m2/Slots/Test_m2/test_set.csv with model ../Data/proximity/Office/80MHz/3mo/m2/Office_m2_m2.h5\n"
     ]
    },
    {
     "name": "stderr",
     "output_type": "stream",
     "text": [
      "  0%|          | 0/31281 [00:00<?, ?it/s]/home/diogo/miniconda3/envs/tensorflow/lib/python3.9/site-packages/keras/src/models/functional.py:238: UserWarning: The structure of `inputs` doesn't match the expected structure.\n",
      "Expected: ['input_layer']\n",
      "Received: inputs=Tensor(shape=(1, 50, 242, 2))\n",
      "  warnings.warn(msg)\n",
      "100%|██████████| 31281/31281 [16:15<00:00, 32.06it/s]\n",
      "WARNING:absl:Compiled the loaded model, but the compiled metrics have yet to be built. `model.compile_metrics` will be empty until you train or evaluate the model.\n"
     ]
    },
    {
     "name": "stdout",
     "output_type": "stream",
     "text": [
      "Processing ../Data/proximity/Office/80MHz/3mo/m2/Slots/Test_m3/test_set.csv with model ../Data/proximity/Office/80MHz/3mo/m2/Office_m2_m3.h5\n"
     ]
    },
    {
     "name": "stderr",
     "output_type": "stream",
     "text": [
      "  0%|          | 0/31281 [00:00<?, ?it/s]/home/diogo/miniconda3/envs/tensorflow/lib/python3.9/site-packages/keras/src/models/functional.py:238: UserWarning: The structure of `inputs` doesn't match the expected structure.\n",
      "Expected: ['input_layer']\n",
      "Received: inputs=Tensor(shape=(1, 50, 242, 2))\n",
      "  warnings.warn(msg)\n",
      "100%|██████████| 31281/31281 [15:53<00:00, 32.79it/s]\n",
      "WARNING:absl:Compiled the loaded model, but the compiled metrics have yet to be built. `model.compile_metrics` will be empty until you train or evaluate the model.\n"
     ]
    },
    {
     "name": "stdout",
     "output_type": "stream",
     "text": [
      "Processing ../Data/proximity/Office/80MHz/3mo/m3/Slots/Test_m1/test_set.csv with model ../Data/proximity/Office/80MHz/3mo/m3/Office_m3_m1.h5\n"
     ]
    },
    {
     "name": "stderr",
     "output_type": "stream",
     "text": [
      "  0%|          | 0/30383 [00:00<?, ?it/s]/home/diogo/miniconda3/envs/tensorflow/lib/python3.9/site-packages/keras/src/models/functional.py:238: UserWarning: The structure of `inputs` doesn't match the expected structure.\n",
      "Expected: ['input_layer']\n",
      "Received: inputs=Tensor(shape=(1, 50, 242, 2))\n",
      "  warnings.warn(msg)\n",
      "100%|██████████| 30383/30383 [16:26<00:00, 30.79it/s]\n",
      "WARNING:absl:Compiled the loaded model, but the compiled metrics have yet to be built. `model.compile_metrics` will be empty until you train or evaluate the model.\n"
     ]
    },
    {
     "name": "stdout",
     "output_type": "stream",
     "text": [
      "Processing ../Data/proximity/Office/80MHz/3mo/m3/Slots/Test_m2/test_set.csv with model ../Data/proximity/Office/80MHz/3mo/m3/Office_m3_m2.h5\n"
     ]
    },
    {
     "name": "stderr",
     "output_type": "stream",
     "text": [
      "  0%|          | 0/29360 [00:00<?, ?it/s]/home/diogo/miniconda3/envs/tensorflow/lib/python3.9/site-packages/keras/src/models/functional.py:238: UserWarning: The structure of `inputs` doesn't match the expected structure.\n",
      "Expected: ['input_layer']\n",
      "Received: inputs=Tensor(shape=(1, 50, 242, 2))\n",
      "  warnings.warn(msg)\n",
      "100%|██████████| 29360/29360 [15:52<00:00, 30.84it/s]\n",
      "WARNING:absl:Compiled the loaded model, but the compiled metrics have yet to be built. `model.compile_metrics` will be empty until you train or evaluate the model.\n"
     ]
    },
    {
     "name": "stdout",
     "output_type": "stream",
     "text": [
      "Processing ../Data/proximity/Office/80MHz/3mo/m3/Slots/Test_m3/test_set.csv with model ../Data/proximity/Office/80MHz/3mo/m3/Office_m3_m3.h5\n"
     ]
    },
    {
     "name": "stderr",
     "output_type": "stream",
     "text": [
      "  0%|          | 0/29360 [00:00<?, ?it/s]/home/diogo/miniconda3/envs/tensorflow/lib/python3.9/site-packages/keras/src/models/functional.py:238: UserWarning: The structure of `inputs` doesn't match the expected structure.\n",
      "Expected: ['input_layer']\n",
      "Received: inputs=Tensor(shape=(1, 50, 242, 2))\n",
      "  warnings.warn(msg)\n",
      "100%|██████████| 29360/29360 [15:57<00:00, 30.66it/s]\n"
     ]
    },
    {
     "data": {
      "text/html": [
       "<div>\n",
       "<style scoped>\n",
       "    .dataframe tbody tr th:only-of-type {\n",
       "        vertical-align: middle;\n",
       "    }\n",
       "\n",
       "    .dataframe tbody tr th {\n",
       "        vertical-align: top;\n",
       "    }\n",
       "\n",
       "    .dataframe thead th {\n",
       "        text-align: right;\n",
       "    }\n",
       "</style>\n",
       "<table border=\"1\" class=\"dataframe\">\n",
       "  <thead>\n",
       "    <tr style=\"text-align: right;\">\n",
       "      <th></th>\n",
       "      <th>test</th>\n",
       "      <th>environment</th>\n",
       "      <th>monitor</th>\n",
       "      <th>slot</th>\n",
       "      <th>csv_file_path</th>\n",
       "      <th>elapsed_time_seconds</th>\n",
       "    </tr>\n",
       "  </thead>\n",
       "  <tbody>\n",
       "    <tr>\n",
       "      <th>0</th>\n",
       "      <td>proximity</td>\n",
       "      <td>Classroom</td>\n",
       "      <td>m1</td>\n",
       "      <td>Test_m1</td>\n",
       "      <td>../Data/proximity/Classroom/80MHz/3mo/m1/Slots...</td>\n",
       "      <td>507.651038</td>\n",
       "    </tr>\n",
       "    <tr>\n",
       "      <th>1</th>\n",
       "      <td>proximity</td>\n",
       "      <td>Classroom</td>\n",
       "      <td>m1</td>\n",
       "      <td>Test_m2</td>\n",
       "      <td>../Data/proximity/Classroom/80MHz/3mo/m1/Slots...</td>\n",
       "      <td>503.202627</td>\n",
       "    </tr>\n",
       "    <tr>\n",
       "      <th>2</th>\n",
       "      <td>proximity</td>\n",
       "      <td>Classroom</td>\n",
       "      <td>m1</td>\n",
       "      <td>Test_m3</td>\n",
       "      <td>../Data/proximity/Classroom/80MHz/3mo/m1/Slots...</td>\n",
       "      <td>491.408673</td>\n",
       "    </tr>\n",
       "    <tr>\n",
       "      <th>3</th>\n",
       "      <td>proximity</td>\n",
       "      <td>Classroom</td>\n",
       "      <td>m2</td>\n",
       "      <td>Test_m1</td>\n",
       "      <td>../Data/proximity/Classroom/80MHz/3mo/m2/Slots...</td>\n",
       "      <td>538.526809</td>\n",
       "    </tr>\n",
       "    <tr>\n",
       "      <th>4</th>\n",
       "      <td>proximity</td>\n",
       "      <td>Classroom</td>\n",
       "      <td>m2</td>\n",
       "      <td>Test_m2</td>\n",
       "      <td>../Data/proximity/Classroom/80MHz/3mo/m2/Slots...</td>\n",
       "      <td>495.169215</td>\n",
       "    </tr>\n",
       "    <tr>\n",
       "      <th>5</th>\n",
       "      <td>proximity</td>\n",
       "      <td>Classroom</td>\n",
       "      <td>m2</td>\n",
       "      <td>Test_m3</td>\n",
       "      <td>../Data/proximity/Classroom/80MHz/3mo/m2/Slots...</td>\n",
       "      <td>487.401974</td>\n",
       "    </tr>\n",
       "    <tr>\n",
       "      <th>6</th>\n",
       "      <td>proximity</td>\n",
       "      <td>Classroom</td>\n",
       "      <td>m3</td>\n",
       "      <td>Test_m1</td>\n",
       "      <td>../Data/proximity/Classroom/80MHz/3mo/m3/Slots...</td>\n",
       "      <td>540.595021</td>\n",
       "    </tr>\n",
       "    <tr>\n",
       "      <th>7</th>\n",
       "      <td>proximity</td>\n",
       "      <td>Classroom</td>\n",
       "      <td>m3</td>\n",
       "      <td>Test_m2</td>\n",
       "      <td>../Data/proximity/Classroom/80MHz/3mo/m3/Slots...</td>\n",
       "      <td>504.182124</td>\n",
       "    </tr>\n",
       "    <tr>\n",
       "      <th>8</th>\n",
       "      <td>proximity</td>\n",
       "      <td>Classroom</td>\n",
       "      <td>m3</td>\n",
       "      <td>Test_m3</td>\n",
       "      <td>../Data/proximity/Classroom/80MHz/3mo/m3/Slots...</td>\n",
       "      <td>512.920758</td>\n",
       "    </tr>\n",
       "    <tr>\n",
       "      <th>9</th>\n",
       "      <td>proximity</td>\n",
       "      <td>Office</td>\n",
       "      <td>m1</td>\n",
       "      <td>Test_m1</td>\n",
       "      <td>../Data/proximity/Office/80MHz/3mo/m1/Slots/Te...</td>\n",
       "      <td>843.003301</td>\n",
       "    </tr>\n",
       "    <tr>\n",
       "      <th>10</th>\n",
       "      <td>proximity</td>\n",
       "      <td>Office</td>\n",
       "      <td>m1</td>\n",
       "      <td>Test_m2</td>\n",
       "      <td>../Data/proximity/Office/80MHz/3mo/m1/Slots/Te...</td>\n",
       "      <td>832.684785</td>\n",
       "    </tr>\n",
       "    <tr>\n",
       "      <th>11</th>\n",
       "      <td>proximity</td>\n",
       "      <td>Office</td>\n",
       "      <td>m1</td>\n",
       "      <td>Test_m3</td>\n",
       "      <td>../Data/proximity/Office/80MHz/3mo/m1/Slots/Te...</td>\n",
       "      <td>936.773924</td>\n",
       "    </tr>\n",
       "    <tr>\n",
       "      <th>12</th>\n",
       "      <td>proximity</td>\n",
       "      <td>Office</td>\n",
       "      <td>m2</td>\n",
       "      <td>Test_m1</td>\n",
       "      <td>../Data/proximity/Office/80MHz/3mo/m2/Slots/Te...</td>\n",
       "      <td>957.633713</td>\n",
       "    </tr>\n",
       "    <tr>\n",
       "      <th>13</th>\n",
       "      <td>proximity</td>\n",
       "      <td>Office</td>\n",
       "      <td>m2</td>\n",
       "      <td>Test_m2</td>\n",
       "      <td>../Data/proximity/Office/80MHz/3mo/m2/Slots/Te...</td>\n",
       "      <td>980.024743</td>\n",
       "    </tr>\n",
       "    <tr>\n",
       "      <th>14</th>\n",
       "      <td>proximity</td>\n",
       "      <td>Office</td>\n",
       "      <td>m2</td>\n",
       "      <td>Test_m3</td>\n",
       "      <td>../Data/proximity/Office/80MHz/3mo/m2/Slots/Te...</td>\n",
       "      <td>958.352370</td>\n",
       "    </tr>\n",
       "    <tr>\n",
       "      <th>15</th>\n",
       "      <td>proximity</td>\n",
       "      <td>Office</td>\n",
       "      <td>m3</td>\n",
       "      <td>Test_m1</td>\n",
       "      <td>../Data/proximity/Office/80MHz/3mo/m3/Slots/Te...</td>\n",
       "      <td>990.805768</td>\n",
       "    </tr>\n",
       "    <tr>\n",
       "      <th>16</th>\n",
       "      <td>proximity</td>\n",
       "      <td>Office</td>\n",
       "      <td>m3</td>\n",
       "      <td>Test_m2</td>\n",
       "      <td>../Data/proximity/Office/80MHz/3mo/m3/Slots/Te...</td>\n",
       "      <td>956.201974</td>\n",
       "    </tr>\n",
       "    <tr>\n",
       "      <th>17</th>\n",
       "      <td>proximity</td>\n",
       "      <td>Office</td>\n",
       "      <td>m3</td>\n",
       "      <td>Test_m3</td>\n",
       "      <td>../Data/proximity/Office/80MHz/3mo/m3/Slots/Te...</td>\n",
       "      <td>961.774823</td>\n",
       "    </tr>\n",
       "  </tbody>\n",
       "</table>\n",
       "</div>"
      ],
      "text/plain": [
       "         test environment monitor     slot  \\\n",
       "0   proximity   Classroom      m1  Test_m1   \n",
       "1   proximity   Classroom      m1  Test_m2   \n",
       "2   proximity   Classroom      m1  Test_m3   \n",
       "3   proximity   Classroom      m2  Test_m1   \n",
       "4   proximity   Classroom      m2  Test_m2   \n",
       "5   proximity   Classroom      m2  Test_m3   \n",
       "6   proximity   Classroom      m3  Test_m1   \n",
       "7   proximity   Classroom      m3  Test_m2   \n",
       "8   proximity   Classroom      m3  Test_m3   \n",
       "9   proximity      Office      m1  Test_m1   \n",
       "10  proximity      Office      m1  Test_m2   \n",
       "11  proximity      Office      m1  Test_m3   \n",
       "12  proximity      Office      m2  Test_m1   \n",
       "13  proximity      Office      m2  Test_m2   \n",
       "14  proximity      Office      m2  Test_m3   \n",
       "15  proximity      Office      m3  Test_m1   \n",
       "16  proximity      Office      m3  Test_m2   \n",
       "17  proximity      Office      m3  Test_m3   \n",
       "\n",
       "                                        csv_file_path  elapsed_time_seconds  \n",
       "0   ../Data/proximity/Classroom/80MHz/3mo/m1/Slots...            507.651038  \n",
       "1   ../Data/proximity/Classroom/80MHz/3mo/m1/Slots...            503.202627  \n",
       "2   ../Data/proximity/Classroom/80MHz/3mo/m1/Slots...            491.408673  \n",
       "3   ../Data/proximity/Classroom/80MHz/3mo/m2/Slots...            538.526809  \n",
       "4   ../Data/proximity/Classroom/80MHz/3mo/m2/Slots...            495.169215  \n",
       "5   ../Data/proximity/Classroom/80MHz/3mo/m2/Slots...            487.401974  \n",
       "6   ../Data/proximity/Classroom/80MHz/3mo/m3/Slots...            540.595021  \n",
       "7   ../Data/proximity/Classroom/80MHz/3mo/m3/Slots...            504.182124  \n",
       "8   ../Data/proximity/Classroom/80MHz/3mo/m3/Slots...            512.920758  \n",
       "9   ../Data/proximity/Office/80MHz/3mo/m1/Slots/Te...            843.003301  \n",
       "10  ../Data/proximity/Office/80MHz/3mo/m1/Slots/Te...            832.684785  \n",
       "11  ../Data/proximity/Office/80MHz/3mo/m1/Slots/Te...            936.773924  \n",
       "12  ../Data/proximity/Office/80MHz/3mo/m2/Slots/Te...            957.633713  \n",
       "13  ../Data/proximity/Office/80MHz/3mo/m2/Slots/Te...            980.024743  \n",
       "14  ../Data/proximity/Office/80MHz/3mo/m2/Slots/Te...            958.352370  \n",
       "15  ../Data/proximity/Office/80MHz/3mo/m3/Slots/Te...            990.805768  \n",
       "16  ../Data/proximity/Office/80MHz/3mo/m3/Slots/Te...            956.201974  \n",
       "17  ../Data/proximity/Office/80MHz/3mo/m3/Slots/Te...            961.774823  "
      ]
     },
     "execution_count": 46,
     "metadata": {},
     "output_type": "execute_result"
    }
   ],
   "source": [
    "def processing(row):\n",
    "  start_time = time.time()\n",
    "  \n",
    "  # Constants\n",
    "  window_size = 50\n",
    "  NoOfSubcarrier = 242\n",
    "  labels = ['A', 'B', 'C', 'D', 'E', 'F', 'G', 'H', 'I', 'J', 'K', 'L', 'M', 'N', 'O', 'P', 'Q', 'R', 'S', 'T']\n",
    "\n",
    "  # File and directory paths\n",
    "  environment, csv_file_path, monitor, slot = row[['environment', 'csv_file_path', 'monitor', 'slot']]\n",
    "  target_subject = slot.replace('Test_', '')\n",
    "  test_dir = os.path.dirname(csv_file_path)\n",
    "  model_dir = os.path.dirname(os.path.dirname(os.path.dirname(csv_file_path)))\n",
    "  gradcam_dir = test_dir.replace('Data', 'GradCam')\n",
    "  model_path = f'{model_dir}/{environment}_{monitor}_{target_subject}.h5'\n",
    "  csv_output_file = csv_file_path.replace('Data', 'GradCam')\n",
    "\n",
    "  # File and directory checks\n",
    "  if not os.path.exists(csv_file_path):\n",
    "    print(f'Test directory not found: {csv_file_path}')\n",
    "    return None\n",
    "  if not os.path.exists(model_path):\n",
    "    print(f'Model path not found: {model_path}')\n",
    "    return None\n",
    "  if not os.path.exists(csv_file_path):\n",
    "    print(f'CSV file path not found: {csv_file_path}')\n",
    "    return None\n",
    "  if not os.path.exists(gradcam_dir):\n",
    "    os.makedirs(gradcam_dir)\n",
    "\n",
    "  print(f'Processing {csv_file_path} with model {model_path}')\n",
    "\n",
    "  # Load model\n",
    "  model = load_model(model_path)\n",
    "\n",
    "  # Load data\n",
    "  csv = pd.read_csv(csv_file_path)\n",
    "  csv['predicted_label'] = None\n",
    "  csv['predicted_prob'] = None\n",
    "\n",
    "  # Data generator\n",
    "  test_gen = DataGenerator(test_dir, csv_file_path, NoOfSubcarrier, len(labels), (window_size, NoOfSubcarrier, 2), batchsize=1, shuffle=False)\n",
    "\n",
    "  # Loop into test samples\n",
    "  for sample_index in tqdm(range(len(test_gen))):\n",
    "    x, y = test_gen[sample_index]\n",
    "    mat_file = csv.iloc[sample_index]['filename']\n",
    "    npy_file = f\"{gradcam_dir}/{mat_file.replace('.mat', '.npy')}\"\n",
    "    png_file = npy_file.replace('.npy', '.png')\n",
    "\n",
    "    # Check if the Grad-CAM file already exists\n",
    "    if not os.path.exists(npy_file):\n",
    "      gradcam_basefolder = os.path.dirname(npy_file)\n",
    "      if not os.path.exists(gradcam_basefolder):\n",
    "        os.makedirs(gradcam_basefolder)\n",
    "\n",
    "      top_pred_index, top_class_channel = util.make_gradcam_heatmap(x, model, npy_file, png_file)\n",
    "      csv.at[sample_index, 'predicted_label'] = labels[top_pred_index]\n",
    "      csv.at[sample_index, 'predicted_prob'] = top_class_channel.numpy()[0]\n",
    "\n",
    "  csv['right'] = csv['predicted_label'] == csv['label']\n",
    "  csv.to_csv(csv_output_file, index=False)\n",
    "\n",
    "  # Free GPU memory\n",
    "  del model\n",
    "  gc.collect()\n",
    "  tf.keras.backend.clear_session()\n",
    "\n",
    "  end_time = time.time()\n",
    "  elapsed_time = end_time - start_time\n",
    "  row['elapsed_time_seconds'] = elapsed_time\n",
    "\n",
    "  return row  \n",
    "\n",
    "csvs = csvs.apply(processing, axis=1)\n",
    "csvs\n"
   ]
  },
  {
   "cell_type": "code",
   "execution_count": 48,
   "metadata": {},
   "outputs": [],
   "source": [
    "csvs.to_csv('SAIDAS/03-csv_summary_gradcam_proximity.csv', index=False)"
   ]
  },
  {
   "cell_type": "code",
   "execution_count": 148,
   "metadata": {},
   "outputs": [
    {
     "data": {
      "image/png": "[encoded data removed]",
      "text/plain": [
       "<Figure size 640x480 with 1 Axes>"
      ]
     },
     "metadata": {},
     "output_type": "display_data"
    }
   ],
   "source": [
    "gradcam_line = gradcam.sum(axis=0)/50\n",
    "\n",
    "# concat gradcam_line (242,1) to a (242,50)\n",
    "gradcam_line = gradcam_line.reshape(1, 242)\n",
    "\n",
    "# concactenate the gradcam_line 50 times\n",
    "gradcam_all = np.repeat(gradcam_line, 50, axis=0)\n",
    "\n",
    "# gradcam_all = sigmoid(gradcam_all, 0.00001)\n",
    "# show the gradcam_line\n",
    "\n",
    "gradcam_all = np.where(gradcam_all >= 0.40, 1, 0)\n",
    "plt.imshow(gradcam_all, cmap='jet');\n",
    "# plt.imshow(gradcam.sum(axis=0),  cmap='jet')"
   ]
  },
  {
   "cell_type": "code",
   "execution_count": null,
   "metadata": {},
   "outputs": [
    {
     "data": {
      "text/plain": [
       "<matplotlib.image.AxesImage at 0x76d92c47a790>"
      ]
     },
     "execution_count": 144,
     "metadata": {},
     "output_type": "execute_result"
    },
    {
     "data": {
      "image/png": "[encoded data removed]",
      "text/plain": [
       "<Figure size 640x480 with 1 Axes>"
      ]
     },
     "metadata": {},
     "output_type": "display_data"
    }
   ],
   "source": [
    "plt.imshow(gradcam, cmap='jet')"
   ]
  },
  {
   "cell_type": "code",
   "execution_count": 108,
   "metadata": {},
   "outputs": [
    {
     "data": {
      "text/plain": [
       "array([[0.50338906, 0.440587  , 0.31498292, 0.26719236, 0.2972154 ,\n",
       "        0.33971503, 0.39469147, 0.4158467 , 0.4031807 , 0.38043237,\n",
       "        0.34760198, 0.31261382, 0.27546805, 0.2253223 , 0.16217667,\n",
       "        0.12937476, 0.12691647, 0.17261894, 0.26648217, 0.35710078,\n",
       "        0.44447467, 0.46281037, 0.41210783, 0.31178054, 0.16182846,\n",
       "        0.06536837, 0.02240021, 0.01789177, 0.05184306, 0.09331001,\n",
       "        0.14229259, 0.16819187, 0.17100805, 0.17495371, 0.18002892,\n",
       "        0.19265148, 0.21282148, 0.23019142, 0.24476133, 0.25507304,\n",
       "        0.2611265 , 0.25921613, 0.24934192, 0.22988133, 0.20083429,\n",
       "        0.18218312, 0.17392784, 0.1825391 , 0.2080171 , 0.25660604,\n",
       "        0.32830605, 0.3886815 , 0.43773267, 0.45845413, 0.450846  ,\n",
       "        0.42020664, 0.36653632, 0.3038618 , 0.232183  , 0.16378547,\n",
       "        0.09866916, 0.05308773, 0.02704117, 0.0175116 , 0.02449901,\n",
       "        0.04244739, 0.07135677, 0.10359867, 0.13917312, 0.16758727,\n",
       "        0.18884113, 0.21137899, 0.23520094, 0.25823456, 0.2804798 ,\n",
       "        0.28410268, 0.269103  , 0.24539112, 0.21296696, 0.18312116,\n",
       "        0.15585363, 0.14141835, 0.13981533, 0.14135881, 0.14604884,\n",
       "        0.15797186, 0.17712784, 0.19501066, 0.21162026, 0.22412033,\n",
       "        0.23251104, 0.24056399, 0.24827923, 0.25253573, 0.25333354,\n",
       "        0.23917826, 0.21006984, 0.18211061, 0.15530045, 0.14426911,\n",
       "        0.14901645, 0.16223063, 0.18391168, 0.20244673, 0.21783568,\n",
       "        0.22432789, 0.22192347, 0.22418906, 0.2311247 , 0.23879717,\n",
       "        0.24720643, 0.24457572, 0.2309052 , 0.21754524, 0.20449571,\n",
       "        0.20174116, 0.20928146, 0.21844551, 0.22923331, 0.23443179,\n",
       "        0.23404081, 0.23340867, 0.23253529, 0.23033805, 0.22681674,\n",
       "        0.2220525 , 0.21604517, 0.21405405, 0.21607897, 0.21971092,\n",
       "        0.22494969, 0.22776057, 0.22814342, 0.22852318, 0.2288998 ,\n",
       "        0.23305325, 0.24098347, 0.25035706, 0.261174  , 0.2611676 ,\n",
       "        0.2503378 , 0.22795075, 0.19400637, 0.1672718 , 0.1477471 ,\n",
       "        0.1412559 , 0.14779806, 0.15016289, 0.14835028, 0.13029003,\n",
       "        0.09598207, 0.07266358, 0.06033456, 0.05858363, 0.06741077,\n",
       "        0.07744227, 0.0886781 , 0.10664957, 0.13135658, 0.15835541,\n",
       "        0.18764614, 0.2040043 , 0.20743018, 0.20988043, 0.21135516,\n",
       "        0.21441697, 0.21906593, 0.2200463 , 0.21735807, 0.21755749,\n",
       "        0.22064456, 0.23220377, 0.25223503, 0.26116648, 0.2589983 ,\n",
       "        0.24550146, 0.22067614, 0.20555972, 0.20015222, 0.20007434,\n",
       "        0.20532599, 0.21016107, 0.21457964, 0.21941562, 0.22466902,\n",
       "        0.22917981, 0.23294796, 0.24486737, 0.26493788, 0.274248  ,\n",
       "        0.2727976 , 0.24831526, 0.20080091, 0.16986144, 0.15549688,\n",
       "        0.14163068, 0.12826277, 0.12567982, 0.1338818 , 0.15436858,\n",
       "        0.18714021, 0.21262579, 0.23082535, 0.24511582, 0.255497  ,\n",
       "        0.25441855, 0.2418803 , 0.2186855 , 0.18483423, 0.1613568 ,\n",
       "        0.14825326, 0.1408157 , 0.13904417, 0.13728392, 0.13553499,\n",
       "        0.12591042, 0.10841016, 0.09778094, 0.09402281, 0.09520602,\n",
       "        0.10133062, 0.1109594 , 0.12409232, 0.12234888, 0.10572908,\n",
       "        0.08857195, 0.07087747, 0.08179674, 0.12132968, 0.15581775,\n",
       "        0.18526098, 0.20132834, 0.20401977, 0.20974235, 0.21849598,\n",
       "        0.22363171, 0.2251493 , 0.22665781, 0.22815722, 0.20912625,\n",
       "        0.16956481, 0.14978415]], dtype=float32)"
      ]
     },
     "execution_count": 108,
     "metadata": {},
     "output_type": "execute_result"
    }
   ],
   "source": [
    "gradcam_line"
   ]
  },
  {
   "cell_type": "code",
   "execution_count": 118,
   "metadata": {},
   "outputs": [
    {
     "data": {
      "text/plain": [
       "array([[0.5125821 , 0.5110129 , 0.50787395, 0.5066794 , 0.50742984,\n",
       "        0.50849205, 0.509866  , 0.5103947 , 0.5100782 , 0.5095097 ,\n",
       "        0.50868917, 0.5078147 , 0.5068863 , 0.5056328 , 0.5040543 ,\n",
       "        0.5032343 , 0.5031729 , 0.5043154 , 0.50666165, 0.5089266 ,\n",
       "        0.51111007, 0.5115682 , 0.51030123, 0.50779384, 0.5040456 ,\n",
       "        0.5016342 , 0.50056005, 0.5004473 , 0.50129604, 0.50233275,\n",
       "        0.50355726, 0.5042047 , 0.5042751 , 0.5043737 , 0.5045006 ,\n",
       "        0.5048162 , 0.5053203 , 0.50575453, 0.5061187 , 0.5063765 ,\n",
       "        0.5065278 , 0.50648004, 0.5062332 , 0.5057468 , 0.5050207 ,\n",
       "        0.50455445, 0.5043481 , 0.50456333, 0.50520027, 0.5064148 ,\n",
       "        0.50820696, 0.5097158 , 0.51094157, 0.51145935, 0.5112692 ,\n",
       "        0.51050365, 0.50916237, 0.50759596, 0.5058043 , 0.50409454,\n",
       "        0.50246674, 0.5013272 , 0.50067604, 0.5004378 , 0.5006125 ,\n",
       "        0.5010612 , 0.50178385, 0.50258994, 0.50347924, 0.50418955,\n",
       "        0.50472087, 0.50528425, 0.50587976, 0.50645554, 0.50701153,\n",
       "        0.5071021 , 0.50672716, 0.50613445, 0.505324  , 0.50457793,\n",
       "        0.50389624, 0.5035354 , 0.50349534, 0.5035339 , 0.50365114,\n",
       "        0.5039492 , 0.5044281 , 0.5048751 , 0.5052903 , 0.5056028 ,\n",
       "        0.5058125 , 0.5060138 , 0.5062067 , 0.5063131 , 0.506333  ,\n",
       "        0.5059791 , 0.5052516 , 0.5045526 , 0.50388247, 0.5036067 ,\n",
       "        0.50372535, 0.5040557 , 0.50459766, 0.505061  , 0.50544566,\n",
       "        0.50560796, 0.5055478 , 0.50560445, 0.50577784, 0.50596964,\n",
       "        0.50617987, 0.50611407, 0.50577235, 0.50543845, 0.50511223,\n",
       "        0.5050433 , 0.50523186, 0.5054609 , 0.50573057, 0.5058605 ,\n",
       "        0.50585073, 0.50583494, 0.5058131 , 0.50575817, 0.5056702 ,\n",
       "        0.5055511 , 0.5054009 , 0.5053512 , 0.5054018 , 0.50549257,\n",
       "        0.5056235 , 0.5056938 , 0.50570333, 0.50571287, 0.5057222 ,\n",
       "        0.50582606, 0.5060243 , 0.5062586 , 0.506529  , 0.50652885,\n",
       "        0.50625813, 0.5056985 , 0.50485003, 0.50418174, 0.5036936 ,\n",
       "        0.5035313 , 0.5036949 , 0.503754  , 0.5037087 , 0.5032572 ,\n",
       "        0.5023995 , 0.5018166 , 0.50150836, 0.5014646 , 0.50168526,\n",
       "        0.501936  , 0.50221694, 0.50266623, 0.50328386, 0.5039588 ,\n",
       "        0.50469106, 0.50509995, 0.5051856 , 0.5052468 , 0.50528365,\n",
       "        0.50536025, 0.5054764 , 0.5055009 , 0.50543374, 0.5054387 ,\n",
       "        0.5055159 , 0.50580484, 0.5063056 , 0.5065288 , 0.5064746 ,\n",
       "        0.50613725, 0.50551665, 0.5051388 , 0.50500363, 0.50500166,\n",
       "        0.505133  , 0.50525385, 0.5053643 , 0.5054852 , 0.5056165 ,\n",
       "        0.50572926, 0.50582343, 0.5061214 , 0.506623  , 0.5068558 ,\n",
       "        0.5068195 , 0.5062076 , 0.50501984, 0.5042464 , 0.50388736,\n",
       "        0.50354075, 0.50320655, 0.50314194, 0.503347  , 0.50385916,\n",
       "        0.50467837, 0.5053154 , 0.5057704 , 0.5061276 , 0.5063871 ,\n",
       "        0.5063601 , 0.5060467 , 0.50546694, 0.50462073, 0.50403386,\n",
       "        0.5037063 , 0.5035203 , 0.5034761 , 0.50343204, 0.50338835,\n",
       "        0.5031477 , 0.5027102 , 0.5024445 , 0.50235057, 0.50238013,\n",
       "        0.50253326, 0.50277394, 0.5031023 , 0.50305873, 0.5026432 ,\n",
       "        0.5022143 , 0.5017719 , 0.5020449 , 0.5030332 , 0.50389534,\n",
       "        0.5046314 , 0.5050331 , 0.5051003 , 0.50524336, 0.50546217,\n",
       "        0.50559056, 0.50562847, 0.5056662 , 0.5057037 , 0.505228  ,\n",
       "        0.504239  , 0.50374454]], dtype=float32)"
      ]
     },
     "execution_count": 118,
     "metadata": {},
     "output_type": "execute_result"
    }
   ],
   "source": [
    "sigmoid(gradcam_line, 0.1)"
   ]
  },
  {
   "cell_type": "code",
   "execution_count": null,
   "metadata": {},
   "outputs": [],
   "source": [
    "  prediction_confidence_file = csv_output_file.replace('test_set.csv', 'prediction_confidence.png')\n",
    "\n",
    "csv['right'] = csv['predicted_label'] == csv['label']\n",
    "right = csv.loc[csv['right'] == True, 'predicted_prob'].tolist()\n",
    "wrong = csv.loc[csv['right'] == False, 'predicted_prob'].tolist()\n",
    "title = f\"{model_path.split('/')[2]}_{model_path.split('/')[-1]}\"\n",
    "plot_continuous_distribution(right, wrong, title=title, output=prediction_confidence_file)"
   ]
  },
  {
   "cell_type": "code",
   "execution_count": null,
   "metadata": {},
   "outputs": [],
   "source": [
    "rows = len(gradcam)\n",
    "cols = 1\n",
    "\n",
    "fig, axs = plt.subplots(rows, cols, figsize=(14, 4*rows))\n",
    "for i in range(rows):\n",
    "    axs[i].imshow(gradcam[i], cmap='jet')\n",
    "    axs[i].set_title(labels[i])\n",
    "    axs[i].axis('off')\n",
    "\n",
    "# plt.imshow(gradcam[0])"
   ]
  },
  {
   "cell_type": "code",
   "execution_count": 55,
   "metadata": {},
   "outputs": [
    {
     "data": {
      "text/plain": [
       "<matplotlib.image.AxesImage at 0x7b1a05826070>"
      ]
     },
     "execution_count": 55,
     "metadata": {},
     "output_type": "execute_result"
    },
    {
     "data": {
      "image/png": "[encoded data removed]",
      "text/plain": [
       "<Figure size 640x480 with 1 Axes>"
      ]
     },
     "metadata": {},
     "output_type": "display_data"
    }
   ],
   "source": [
    "gradcam_tudo = np.zeros((50, 242))\n",
    "for i in range(len(gradcam)):\n",
    "    gradcam_tudo = (gradcam_tudo + gradcam[i])/2\n",
    "plt.imshow(gradcam_tudo)"
   ]
  }
 ],
 "metadata": {
  "kernelspec": {
   "display_name": "tensorflow",
   "language": "python",
   "name": "python3"
  },
  "language_info": {
   "codemirror_mode": {
    "name": "ipython",
    "version": 3
   },
   "file_extension": ".py",
   "mimetype": "text/x-python",
   "name": "python",
   "nbconvert_exporter": "python",
   "pygments_lexer": "ipython3",
   "version": "3.9.19"
  }
 },
 "nbformat": 4,
 "nbformat_minor": 2
}
