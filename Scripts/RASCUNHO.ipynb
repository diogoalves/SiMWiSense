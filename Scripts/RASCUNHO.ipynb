{
 "cells": [
  {
   "cell_type": "code",
   "execution_count": 17,
   "id": "a1f24f9f",
   "metadata": {},
   "outputs": [
    {
     "name": "stdout",
     "output_type": "stream",
     "text": [
      "python baseline_fine_grained.py Office m1 Classroom m1 Office_m1_Classroom_m1_242.h5 242\n",
      "python baseline_fine_grained.py Office m2 Classroom m2 Office_m2_Classroom_m2_242.h5 242\n",
      "python baseline_fine_grained.py Office m3 Classroom m3 Office_m3_Classroom_m3_242.h5 242\n"
     ]
    }
   ],
   "source": [
    "\n",
    "base = 'python baseline_fine_grained.py '\n",
    "\n",
    "monitor_subject_pairs = ['m1', 'm2', 'm3']\n",
    "# environments = ['Classroom', 'Office']\n",
    "subcarrier = '242'\n",
    "train_environments = 'Office'\n",
    "test_environments = 'Classroom'\n",
    "# subcarries = ['20', '40', '80', '160',]\n",
    "\n",
    "\n",
    "for monitor_subject in monitor_subject_pairs:\n",
    "  print(base + f'{train_environments} {monitor_subject} {test_environments} {monitor_subject} {train_environments}_{monitor_subject}_{test_environments}_{monitor_subject}_{subcarrier}.h5 {subcarrier}')\n",
    "\n",
    "# Classroom m1 Classroom m1 Cls_m1_Cls_m1.h5 242\n",
    "\n",
    "\n",
    "# python baseline_proximity.py Classroom m1 m1 Classroom_m1_m1.h5 242\n"
   ]
  }
 ],
 "metadata": {
  "kernelspec": {
   "display_name": "simwisense",
   "language": "python",
   "name": "python3"
  },
  "language_info": {
   "codemirror_mode": {
    "name": "ipython",
    "version": 3
   },
   "file_extension": ".py",
   "mimetype": "text/x-python",
   "name": "python",
   "nbconvert_exporter": "python",
   "pygments_lexer": "ipython3",
   "version": "3.10.16"
  }
 },
 "nbformat": 4,
 "nbformat_minor": 5
}
