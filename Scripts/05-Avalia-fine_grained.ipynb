{
 "cells": [
  {
   "cell_type": "code",
   "execution_count": 3,
   "id": "3d4aa458",
   "metadata": {},
   "outputs": [],
   "source": [
    "%load_ext autoreload\n",
    "%autoreload 2\n",
    "\n",
    "import os\n",
    "import sys\n",
    "import argparse\n",
    "import numpy as np\n",
    "import pandas as pd \n",
    "import seaborn as sns\n",
    "import tensorflow as tf\n",
    "from tensorflow import keras\n",
    "from tensorflow.keras import layers, models\n",
    "from tensorflow.keras.models import load_model\n",
    "from tensorflow.keras.callbacks import ReduceLROnPlateau, EarlyStopping, ModelCheckpoint\n",
    "# from sklearn.metrics import plot_confusion_matrix\n",
    "from sklearn.metrics import confusion_matrix\n",
    "from matplotlib import pyplot as plt\n",
    "\n",
    "\n",
    "notebook_dir = os.getcwd()\n",
    "target_path = os.path.abspath(os.path.join(notebook_dir, '../Python_Code'))\n",
    "sys.path.append(target_path)\n",
    "from dataGenerator import DataGenerator\n",
    "\n",
    "import util\n",
    "\n",
    "# Constants\n",
    "num_classes = 20\n",
    "window_size = 50\n",
    "epoch = 15"
   ]
  },
  {
   "cell_type": "code",
   "execution_count": 8,
   "id": "c9b378a5",
   "metadata": {},
   "outputs": [],
   "source": [
    "def evaluate_subject_with_data_from(train_environment, train_monitor, test_environment, test_monitor, nr_subcarriers=242):\n",
    "  model_dir = f'../Data/fine_grained/{train_environment}/80MHz/3mo/{train_monitor}/{train_environment}_{train_monitor}_{train_environment}_{train_monitor}_{nr_subcarriers}.h5'\n",
    "  model = load_model(model_dir)\n",
    "\n",
    "  test_dir = f'../Data/fine_grained/{test_environment}/80MHz/3mo/{test_monitor}/Slots/Test'\n",
    "  test_csv = os.path.join(test_dir, 'test_set.csv')\n",
    "  window_size = 50\n",
    "  labels = ['A', 'B', 'C', 'D', 'E', 'F', 'G', 'H', 'I', 'J', 'K', 'L', 'M', 'N', 'O', 'P', 'Q', 'R', 'S', 'T']\n",
    "\n",
    "  test_gen = DataGenerator(test_dir, test_csv, nr_subcarriers, len(labels), (window_size, nr_subcarriers, 2), batchsize=64, shuffle=False)\n",
    "\n",
    "  final_loss, final_accuracy = model.evaluate(test_gen)\n",
    "  return final_loss, final_accuracy"
   ]
  },
  {
   "cell_type": "code",
   "execution_count": 9,
   "id": "d38e6900",
   "metadata": {},
   "outputs": [
    {
     "name": "stdout",
     "output_type": "stream",
     "text": [
      "Evaluating Classroom m1 against Classroom m1\n"
     ]
    },
    {
     "name": "stderr",
     "output_type": "stream",
     "text": [
      "WARNING: All log messages before absl::InitializeLog() is called are written to STDERR\n",
      "I0000 00:00:1747914574.396735 1647671 cuda_executor.cc:1015] successful NUMA node read from SysFS had negative value (-1), but there must be at least one NUMA node, so returning NUMA node zero. See more at https://github.com/torvalds/linux/blob/v6.0/Documentation/ABI/testing/sysfs-bus-pci#L344-L355\n",
      "I0000 00:00:1747914574.647861 1647671 cuda_executor.cc:1015] successful NUMA node read from SysFS had negative value (-1), but there must be at least one NUMA node, so returning NUMA node zero. See more at https://github.com/torvalds/linux/blob/v6.0/Documentation/ABI/testing/sysfs-bus-pci#L344-L355\n",
      "I0000 00:00:1747914574.653210 1647671 cuda_executor.cc:1015] successful NUMA node read from SysFS had negative value (-1), but there must be at least one NUMA node, so returning NUMA node zero. See more at https://github.com/torvalds/linux/blob/v6.0/Documentation/ABI/testing/sysfs-bus-pci#L344-L355\n",
      "I0000 00:00:1747914574.660936 1647671 cuda_executor.cc:1015] successful NUMA node read from SysFS had negative value (-1), but there must be at least one NUMA node, so returning NUMA node zero. See more at https://github.com/torvalds/linux/blob/v6.0/Documentation/ABI/testing/sysfs-bus-pci#L344-L355\n",
      "I0000 00:00:1747914574.663857 1647671 cuda_executor.cc:1015] successful NUMA node read from SysFS had negative value (-1), but there must be at least one NUMA node, so returning NUMA node zero. See more at https://github.com/torvalds/linux/blob/v6.0/Documentation/ABI/testing/sysfs-bus-pci#L344-L355\n",
      "I0000 00:00:1747914574.668518 1647671 cuda_executor.cc:1015] successful NUMA node read from SysFS had negative value (-1), but there must be at least one NUMA node, so returning NUMA node zero. See more at https://github.com/torvalds/linux/blob/v6.0/Documentation/ABI/testing/sysfs-bus-pci#L344-L355\n",
      "I0000 00:00:1747914574.788012 1647671 cuda_executor.cc:1015] successful NUMA node read from SysFS had negative value (-1), but there must be at least one NUMA node, so returning NUMA node zero. See more at https://github.com/torvalds/linux/blob/v6.0/Documentation/ABI/testing/sysfs-bus-pci#L344-L355\n",
      "I0000 00:00:1747914574.789093 1647671 cuda_executor.cc:1015] successful NUMA node read from SysFS had negative value (-1), but there must be at least one NUMA node, so returning NUMA node zero. See more at https://github.com/torvalds/linux/blob/v6.0/Documentation/ABI/testing/sysfs-bus-pci#L344-L355\n",
      "I0000 00:00:1747914574.790054 1647671 cuda_executor.cc:1015] successful NUMA node read from SysFS had negative value (-1), but there must be at least one NUMA node, so returning NUMA node zero. See more at https://github.com/torvalds/linux/blob/v6.0/Documentation/ABI/testing/sysfs-bus-pci#L344-L355\n",
      "2025-05-22 08:49:34.799455: I tensorflow/core/common_runtime/gpu/gpu_device.cc:2021] Created device /job:localhost/replica:0/task:0/device:GPU:0 with 9997 MB memory:  -> device: 0, name: NVIDIA GeForce RTX 3060, pci bus id: 0000:07:00.0, compute capability: 8.6\n",
      "WARNING:absl:Compiled the loaded model, but the compiled metrics have yet to be built. `model.compile_metrics` will be empty until you train or evaluate the model.\n",
      "/home/diogo/miniconda3/envs/tensorflow/lib/python3.9/site-packages/keras/src/trainers/data_adapters/py_dataset_adapter.py:121: UserWarning: Your `PyDataset` class should call `super().__init__(**kwargs)` in its constructor. `**kwargs` can include `workers`, `use_multiprocessing`, `max_queue_size`. Do not pass these arguments to `fit()`, as they will be ignored.\n",
      "  self._warn_if_super_not_called()\n",
      "WARNING: All log messages before absl::InitializeLog() is called are written to STDERR\n",
      "I0000 00:00:1747914575.966759 2244879 service.cc:146] XLA service 0x735364009cd0 initialized for platform CUDA (this does not guarantee that XLA will be used). Devices:\n",
      "I0000 00:00:1747914575.966785 2244879 service.cc:154]   StreamExecutor device (0): NVIDIA GeForce RTX 3060, Compute Capability 8.6\n",
      "2025-05-22 08:49:35.988464: I tensorflow/compiler/mlir/tensorflow/utils/dump_mlir_util.cc:268] disabling MLIR crash reproducer, set env var `MLIR_CRASH_REPRODUCER_DIRECTORY` to enable.\n",
      "2025-05-22 08:49:36.068219: I external/local_xla/xla/stream_executor/cuda/cuda_dnn.cc:531] Loaded cuDNN version 8907\n"
     ]
    },
    {
     "name": "stdout",
     "output_type": "stream",
     "text": [
      "\u001b[1m  5/308\u001b[0m \u001b[37m━━━━━━━━━━━━━━━━━━━━\u001b[0m \u001b[1m10s\u001b[0m 36ms/step - accuracy: 1.0000 - loss: 0.0078"
     ]
    },
    {
     "name": "stderr",
     "output_type": "stream",
     "text": [
      "I0000 00:00:1747914576.730973 2244879 device_compiler.h:188] Compiled cluster using XLA!  This line is logged at most once for the lifetime of the process.\n"
     ]
    },
    {
     "name": "stdout",
     "output_type": "stream",
     "text": [
      "\u001b[1m308/308\u001b[0m \u001b[32m━━━━━━━━━━━━━━━━━━━━\u001b[0m\u001b[37m\u001b[0m \u001b[1m15s\u001b[0m 47ms/step - accuracy: 0.9736 - loss: 0.1137\n"
     ]
    },
    {
     "name": "stderr",
     "output_type": "stream",
     "text": [
      "WARNING:absl:Compiled the loaded model, but the compiled metrics have yet to be built. `model.compile_metrics` will be empty until you train or evaluate the model.\n"
     ]
    },
    {
     "name": "stdout",
     "output_type": "stream",
     "text": [
      "Evaluating Classroom m1 against Classroom m2\n"
     ]
    },
    {
     "name": "stderr",
     "output_type": "stream",
     "text": [
      "/home/diogo/miniconda3/envs/tensorflow/lib/python3.9/site-packages/keras/src/trainers/data_adapters/py_dataset_adapter.py:121: UserWarning: Your `PyDataset` class should call `super().__init__(**kwargs)` in its constructor. `**kwargs` can include `workers`, `use_multiprocessing`, `max_queue_size`. Do not pass these arguments to `fit()`, as they will be ignored.\n",
      "  self._warn_if_super_not_called()\n"
     ]
    },
    {
     "name": "stdout",
     "output_type": "stream",
     "text": [
      "\u001b[1m295/295\u001b[0m \u001b[32m━━━━━━━━━━━━━━━━━━━━\u001b[0m\u001b[37m\u001b[0m \u001b[1m14s\u001b[0m 47ms/step - accuracy: 0.0393 - loss: 11.8611\n",
      "Evaluating Classroom m1 against Classroom m3\n"
     ]
    },
    {
     "name": "stderr",
     "output_type": "stream",
     "text": [
      "WARNING:absl:Compiled the loaded model, but the compiled metrics have yet to be built. `model.compile_metrics` will be empty until you train or evaluate the model.\n",
      "/home/diogo/miniconda3/envs/tensorflow/lib/python3.9/site-packages/keras/src/trainers/data_adapters/py_dataset_adapter.py:121: UserWarning: Your `PyDataset` class should call `super().__init__(**kwargs)` in its constructor. `**kwargs` can include `workers`, `use_multiprocessing`, `max_queue_size`. Do not pass these arguments to `fit()`, as they will be ignored.\n",
      "  self._warn_if_super_not_called()\n"
     ]
    },
    {
     "name": "stdout",
     "output_type": "stream",
     "text": [
      "\u001b[1m305/305\u001b[0m \u001b[32m━━━━━━━━━━━━━━━━━━━━\u001b[0m\u001b[37m\u001b[0m \u001b[1m15s\u001b[0m 47ms/step - accuracy: 0.0520 - loss: 13.9568\n",
      "Evaluating Classroom m1 against Office m1\n"
     ]
    },
    {
     "name": "stderr",
     "output_type": "stream",
     "text": [
      "WARNING:absl:Compiled the loaded model, but the compiled metrics have yet to be built. `model.compile_metrics` will be empty until you train or evaluate the model.\n",
      "/home/diogo/miniconda3/envs/tensorflow/lib/python3.9/site-packages/keras/src/trainers/data_adapters/py_dataset_adapter.py:121: UserWarning: Your `PyDataset` class should call `super().__init__(**kwargs)` in its constructor. `**kwargs` can include `workers`, `use_multiprocessing`, `max_queue_size`. Do not pass these arguments to `fit()`, as they will be ignored.\n",
      "  self._warn_if_super_not_called()\n"
     ]
    },
    {
     "name": "stdout",
     "output_type": "stream",
     "text": [
      "\u001b[1m479/479\u001b[0m \u001b[32m━━━━━━━━━━━━━━━━━━━━\u001b[0m\u001b[37m\u001b[0m \u001b[1m23s\u001b[0m 47ms/step - accuracy: 0.0336 - loss: 15.8602\n",
      "Evaluating Classroom m1 against Office m2\n"
     ]
    },
    {
     "name": "stderr",
     "output_type": "stream",
     "text": [
      "WARNING:absl:Compiled the loaded model, but the compiled metrics have yet to be built. `model.compile_metrics` will be empty until you train or evaluate the model.\n",
      "/home/diogo/miniconda3/envs/tensorflow/lib/python3.9/site-packages/keras/src/trainers/data_adapters/py_dataset_adapter.py:121: UserWarning: Your `PyDataset` class should call `super().__init__(**kwargs)` in its constructor. `**kwargs` can include `workers`, `use_multiprocessing`, `max_queue_size`. Do not pass these arguments to `fit()`, as they will be ignored.\n",
      "  self._warn_if_super_not_called()\n"
     ]
    },
    {
     "name": "stdout",
     "output_type": "stream",
     "text": [
      "\u001b[1m488/488\u001b[0m \u001b[32m━━━━━━━━━━━━━━━━━━━━\u001b[0m\u001b[37m\u001b[0m \u001b[1m23s\u001b[0m 47ms/step - accuracy: 0.0515 - loss: 17.7500\n",
      "Evaluating Classroom m1 against Office m3\n"
     ]
    },
    {
     "name": "stderr",
     "output_type": "stream",
     "text": [
      "WARNING:absl:Compiled the loaded model, but the compiled metrics have yet to be built. `model.compile_metrics` will be empty until you train or evaluate the model.\n",
      "/home/diogo/miniconda3/envs/tensorflow/lib/python3.9/site-packages/keras/src/trainers/data_adapters/py_dataset_adapter.py:121: UserWarning: Your `PyDataset` class should call `super().__init__(**kwargs)` in its constructor. `**kwargs` can include `workers`, `use_multiprocessing`, `max_queue_size`. Do not pass these arguments to `fit()`, as they will be ignored.\n",
      "  self._warn_if_super_not_called()\n"
     ]
    },
    {
     "name": "stdout",
     "output_type": "stream",
     "text": [
      "\u001b[1m458/458\u001b[0m \u001b[32m━━━━━━━━━━━━━━━━━━━━\u001b[0m\u001b[37m\u001b[0m \u001b[1m21s\u001b[0m 46ms/step - accuracy: 0.0296 - loss: 13.3165\n",
      "Evaluating Classroom m2 against Classroom m1\n"
     ]
    },
    {
     "name": "stderr",
     "output_type": "stream",
     "text": [
      "WARNING:absl:Compiled the loaded model, but the compiled metrics have yet to be built. `model.compile_metrics` will be empty until you train or evaluate the model.\n",
      "/home/diogo/miniconda3/envs/tensorflow/lib/python3.9/site-packages/keras/src/trainers/data_adapters/py_dataset_adapter.py:121: UserWarning: Your `PyDataset` class should call `super().__init__(**kwargs)` in its constructor. `**kwargs` can include `workers`, `use_multiprocessing`, `max_queue_size`. Do not pass these arguments to `fit()`, as they will be ignored.\n",
      "  self._warn_if_super_not_called()\n"
     ]
    },
    {
     "name": "stdout",
     "output_type": "stream",
     "text": [
      "\u001b[1m308/308\u001b[0m \u001b[32m━━━━━━━━━━━━━━━━━━━━\u001b[0m\u001b[37m\u001b[0m \u001b[1m8s\u001b[0m 26ms/step - accuracy: 0.0563 - loss: 43.4522\n",
      "Evaluating Classroom m2 against Classroom m2\n"
     ]
    },
    {
     "name": "stderr",
     "output_type": "stream",
     "text": [
      "WARNING:absl:Compiled the loaded model, but the compiled metrics have yet to be built. `model.compile_metrics` will be empty until you train or evaluate the model.\n",
      "/home/diogo/miniconda3/envs/tensorflow/lib/python3.9/site-packages/keras/src/trainers/data_adapters/py_dataset_adapter.py:121: UserWarning: Your `PyDataset` class should call `super().__init__(**kwargs)` in its constructor. `**kwargs` can include `workers`, `use_multiprocessing`, `max_queue_size`. Do not pass these arguments to `fit()`, as they will be ignored.\n",
      "  self._warn_if_super_not_called()\n"
     ]
    },
    {
     "name": "stdout",
     "output_type": "stream",
     "text": [
      "\u001b[1m295/295\u001b[0m \u001b[32m━━━━━━━━━━━━━━━━━━━━\u001b[0m\u001b[37m\u001b[0m \u001b[1m8s\u001b[0m 26ms/step - accuracy: 0.9338 - loss: 0.2186\n",
      "Evaluating Classroom m2 against Classroom m3\n"
     ]
    },
    {
     "name": "stderr",
     "output_type": "stream",
     "text": [
      "WARNING:absl:Compiled the loaded model, but the compiled metrics have yet to be built. `model.compile_metrics` will be empty until you train or evaluate the model.\n",
      "/home/diogo/miniconda3/envs/tensorflow/lib/python3.9/site-packages/keras/src/trainers/data_adapters/py_dataset_adapter.py:121: UserWarning: Your `PyDataset` class should call `super().__init__(**kwargs)` in its constructor. `**kwargs` can include `workers`, `use_multiprocessing`, `max_queue_size`. Do not pass these arguments to `fit()`, as they will be ignored.\n",
      "  self._warn_if_super_not_called()\n"
     ]
    },
    {
     "name": "stdout",
     "output_type": "stream",
     "text": [
      "\u001b[1m305/305\u001b[0m \u001b[32m━━━━━━━━━━━━━━━━━━━━\u001b[0m\u001b[37m\u001b[0m \u001b[1m9s\u001b[0m 27ms/step - accuracy: 0.0570 - loss: 37.5172\n",
      "Evaluating Classroom m2 against Office m1\n"
     ]
    },
    {
     "name": "stderr",
     "output_type": "stream",
     "text": [
      "WARNING:absl:Compiled the loaded model, but the compiled metrics have yet to be built. `model.compile_metrics` will be empty until you train or evaluate the model.\n",
      "/home/diogo/miniconda3/envs/tensorflow/lib/python3.9/site-packages/keras/src/trainers/data_adapters/py_dataset_adapter.py:121: UserWarning: Your `PyDataset` class should call `super().__init__(**kwargs)` in its constructor. `**kwargs` can include `workers`, `use_multiprocessing`, `max_queue_size`. Do not pass these arguments to `fit()`, as they will be ignored.\n",
      "  self._warn_if_super_not_called()\n"
     ]
    },
    {
     "name": "stdout",
     "output_type": "stream",
     "text": [
      "\u001b[1m479/479\u001b[0m \u001b[32m━━━━━━━━━━━━━━━━━━━━\u001b[0m\u001b[37m\u001b[0m \u001b[1m13s\u001b[0m 27ms/step - accuracy: 0.0811 - loss: 36.7212\n",
      "Evaluating Classroom m2 against Office m2\n"
     ]
    },
    {
     "name": "stderr",
     "output_type": "stream",
     "text": [
      "WARNING:absl:Compiled the loaded model, but the compiled metrics have yet to be built. `model.compile_metrics` will be empty until you train or evaluate the model.\n",
      "/home/diogo/miniconda3/envs/tensorflow/lib/python3.9/site-packages/keras/src/trainers/data_adapters/py_dataset_adapter.py:121: UserWarning: Your `PyDataset` class should call `super().__init__(**kwargs)` in its constructor. `**kwargs` can include `workers`, `use_multiprocessing`, `max_queue_size`. Do not pass these arguments to `fit()`, as they will be ignored.\n",
      "  self._warn_if_super_not_called()\n"
     ]
    },
    {
     "name": "stdout",
     "output_type": "stream",
     "text": [
      "\u001b[1m488/488\u001b[0m \u001b[32m━━━━━━━━━━━━━━━━━━━━\u001b[0m\u001b[37m\u001b[0m \u001b[1m14s\u001b[0m 27ms/step - accuracy: 0.0413 - loss: 17.8432\n",
      "Evaluating Classroom m2 against Office m3\n"
     ]
    },
    {
     "name": "stderr",
     "output_type": "stream",
     "text": [
      "WARNING:absl:Compiled the loaded model, but the compiled metrics have yet to be built. `model.compile_metrics` will be empty until you train or evaluate the model.\n",
      "/home/diogo/miniconda3/envs/tensorflow/lib/python3.9/site-packages/keras/src/trainers/data_adapters/py_dataset_adapter.py:121: UserWarning: Your `PyDataset` class should call `super().__init__(**kwargs)` in its constructor. `**kwargs` can include `workers`, `use_multiprocessing`, `max_queue_size`. Do not pass these arguments to `fit()`, as they will be ignored.\n",
      "  self._warn_if_super_not_called()\n"
     ]
    },
    {
     "name": "stdout",
     "output_type": "stream",
     "text": [
      "\u001b[1m458/458\u001b[0m \u001b[32m━━━━━━━━━━━━━━━━━━━━\u001b[0m\u001b[37m\u001b[0m \u001b[1m13s\u001b[0m 27ms/step - accuracy: 0.0466 - loss: 22.4244\n",
      "Evaluating Classroom m3 against Classroom m1\n"
     ]
    },
    {
     "name": "stderr",
     "output_type": "stream",
     "text": [
      "WARNING:absl:Compiled the loaded model, but the compiled metrics have yet to be built. `model.compile_metrics` will be empty until you train or evaluate the model.\n",
      "/home/diogo/miniconda3/envs/tensorflow/lib/python3.9/site-packages/keras/src/trainers/data_adapters/py_dataset_adapter.py:121: UserWarning: Your `PyDataset` class should call `super().__init__(**kwargs)` in its constructor. `**kwargs` can include `workers`, `use_multiprocessing`, `max_queue_size`. Do not pass these arguments to `fit()`, as they will be ignored.\n",
      "  self._warn_if_super_not_called()\n"
     ]
    },
    {
     "name": "stdout",
     "output_type": "stream",
     "text": [
      "\u001b[1m308/308\u001b[0m \u001b[32m━━━━━━━━━━━━━━━━━━━━\u001b[0m\u001b[37m\u001b[0m \u001b[1m9s\u001b[0m 28ms/step - accuracy: 0.2135 - loss: 27.3448\n",
      "Evaluating Classroom m3 against Classroom m2\n"
     ]
    },
    {
     "name": "stderr",
     "output_type": "stream",
     "text": [
      "WARNING:absl:Compiled the loaded model, but the compiled metrics have yet to be built. `model.compile_metrics` will be empty until you train or evaluate the model.\n",
      "/home/diogo/miniconda3/envs/tensorflow/lib/python3.9/site-packages/keras/src/trainers/data_adapters/py_dataset_adapter.py:121: UserWarning: Your `PyDataset` class should call `super().__init__(**kwargs)` in its constructor. `**kwargs` can include `workers`, `use_multiprocessing`, `max_queue_size`. Do not pass these arguments to `fit()`, as they will be ignored.\n",
      "  self._warn_if_super_not_called()\n"
     ]
    },
    {
     "name": "stdout",
     "output_type": "stream",
     "text": [
      "\u001b[1m295/295\u001b[0m \u001b[32m━━━━━━━━━━━━━━━━━━━━\u001b[0m\u001b[37m\u001b[0m \u001b[1m8s\u001b[0m 27ms/step - accuracy: 0.0148 - loss: 35.2395\n",
      "Evaluating Classroom m3 against Classroom m3\n"
     ]
    },
    {
     "name": "stderr",
     "output_type": "stream",
     "text": [
      "WARNING:absl:Compiled the loaded model, but the compiled metrics have yet to be built. `model.compile_metrics` will be empty until you train or evaluate the model.\n",
      "/home/diogo/miniconda3/envs/tensorflow/lib/python3.9/site-packages/keras/src/trainers/data_adapters/py_dataset_adapter.py:121: UserWarning: Your `PyDataset` class should call `super().__init__(**kwargs)` in its constructor. `**kwargs` can include `workers`, `use_multiprocessing`, `max_queue_size`. Do not pass these arguments to `fit()`, as they will be ignored.\n",
      "  self._warn_if_super_not_called()\n"
     ]
    },
    {
     "name": "stdout",
     "output_type": "stream",
     "text": [
      "\u001b[1m305/305\u001b[0m \u001b[32m━━━━━━━━━━━━━━━━━━━━\u001b[0m\u001b[37m\u001b[0m \u001b[1m8s\u001b[0m 26ms/step - accuracy: 0.9841 - loss: 0.0493\n",
      "Evaluating Classroom m3 against Office m1\n"
     ]
    },
    {
     "name": "stderr",
     "output_type": "stream",
     "text": [
      "WARNING:absl:Compiled the loaded model, but the compiled metrics have yet to be built. `model.compile_metrics` will be empty until you train or evaluate the model.\n",
      "/home/diogo/miniconda3/envs/tensorflow/lib/python3.9/site-packages/keras/src/trainers/data_adapters/py_dataset_adapter.py:121: UserWarning: Your `PyDataset` class should call `super().__init__(**kwargs)` in its constructor. `**kwargs` can include `workers`, `use_multiprocessing`, `max_queue_size`. Do not pass these arguments to `fit()`, as they will be ignored.\n",
      "  self._warn_if_super_not_called()\n"
     ]
    },
    {
     "name": "stdout",
     "output_type": "stream",
     "text": [
      "\u001b[1m479/479\u001b[0m \u001b[32m━━━━━━━━━━━━━━━━━━━━\u001b[0m\u001b[37m\u001b[0m \u001b[1m13s\u001b[0m 26ms/step - accuracy: 0.0205 - loss: 29.6110\n",
      "Evaluating Classroom m3 against Office m2\n"
     ]
    },
    {
     "name": "stderr",
     "output_type": "stream",
     "text": [
      "WARNING:absl:Compiled the loaded model, but the compiled metrics have yet to be built. `model.compile_metrics` will be empty until you train or evaluate the model.\n",
      "/home/diogo/miniconda3/envs/tensorflow/lib/python3.9/site-packages/keras/src/trainers/data_adapters/py_dataset_adapter.py:121: UserWarning: Your `PyDataset` class should call `super().__init__(**kwargs)` in its constructor. `**kwargs` can include `workers`, `use_multiprocessing`, `max_queue_size`. Do not pass these arguments to `fit()`, as they will be ignored.\n",
      "  self._warn_if_super_not_called()\n"
     ]
    },
    {
     "name": "stdout",
     "output_type": "stream",
     "text": [
      "\u001b[1m488/488\u001b[0m \u001b[32m━━━━━━━━━━━━━━━━━━━━\u001b[0m\u001b[37m\u001b[0m \u001b[1m13s\u001b[0m 26ms/step - accuracy: 0.0174 - loss: 19.2483\n",
      "Evaluating Classroom m3 against Office m3\n"
     ]
    },
    {
     "name": "stderr",
     "output_type": "stream",
     "text": [
      "WARNING:absl:Compiled the loaded model, but the compiled metrics have yet to be built. `model.compile_metrics` will be empty until you train or evaluate the model.\n",
      "/home/diogo/miniconda3/envs/tensorflow/lib/python3.9/site-packages/keras/src/trainers/data_adapters/py_dataset_adapter.py:121: UserWarning: Your `PyDataset` class should call `super().__init__(**kwargs)` in its constructor. `**kwargs` can include `workers`, `use_multiprocessing`, `max_queue_size`. Do not pass these arguments to `fit()`, as they will be ignored.\n",
      "  self._warn_if_super_not_called()\n"
     ]
    },
    {
     "name": "stdout",
     "output_type": "stream",
     "text": [
      "\u001b[1m458/458\u001b[0m \u001b[32m━━━━━━━━━━━━━━━━━━━━\u001b[0m\u001b[37m\u001b[0m \u001b[1m12s\u001b[0m 26ms/step - accuracy: 0.0138 - loss: 17.2182\n",
      "Evaluating Office m1 against Classroom m1\n"
     ]
    },
    {
     "name": "stderr",
     "output_type": "stream",
     "text": [
      "WARNING:absl:Compiled the loaded model, but the compiled metrics have yet to be built. `model.compile_metrics` will be empty until you train or evaluate the model.\n",
      "/home/diogo/miniconda3/envs/tensorflow/lib/python3.9/site-packages/keras/src/trainers/data_adapters/py_dataset_adapter.py:121: UserWarning: Your `PyDataset` class should call `super().__init__(**kwargs)` in its constructor. `**kwargs` can include `workers`, `use_multiprocessing`, `max_queue_size`. Do not pass these arguments to `fit()`, as they will be ignored.\n",
      "  self._warn_if_super_not_called()\n"
     ]
    },
    {
     "name": "stdout",
     "output_type": "stream",
     "text": [
      "\u001b[1m308/308\u001b[0m \u001b[32m━━━━━━━━━━━━━━━━━━━━\u001b[0m\u001b[37m\u001b[0m \u001b[1m8s\u001b[0m 25ms/step - accuracy: 0.0422 - loss: 45.0277\n",
      "Evaluating Office m1 against Classroom m2\n"
     ]
    },
    {
     "name": "stderr",
     "output_type": "stream",
     "text": [
      "WARNING:absl:Compiled the loaded model, but the compiled metrics have yet to be built. `model.compile_metrics` will be empty until you train or evaluate the model.\n",
      "/home/diogo/miniconda3/envs/tensorflow/lib/python3.9/site-packages/keras/src/trainers/data_adapters/py_dataset_adapter.py:121: UserWarning: Your `PyDataset` class should call `super().__init__(**kwargs)` in its constructor. `**kwargs` can include `workers`, `use_multiprocessing`, `max_queue_size`. Do not pass these arguments to `fit()`, as they will be ignored.\n",
      "  self._warn_if_super_not_called()\n"
     ]
    },
    {
     "name": "stdout",
     "output_type": "stream",
     "text": [
      "\u001b[1m295/295\u001b[0m \u001b[32m━━━━━━━━━━━━━━━━━━━━\u001b[0m\u001b[37m\u001b[0m \u001b[1m8s\u001b[0m 27ms/step - accuracy: 0.0516 - loss: 31.3160\n",
      "Evaluating Office m1 against Classroom m3\n"
     ]
    },
    {
     "name": "stderr",
     "output_type": "stream",
     "text": [
      "WARNING:absl:Compiled the loaded model, but the compiled metrics have yet to be built. `model.compile_metrics` will be empty until you train or evaluate the model.\n",
      "/home/diogo/miniconda3/envs/tensorflow/lib/python3.9/site-packages/keras/src/trainers/data_adapters/py_dataset_adapter.py:121: UserWarning: Your `PyDataset` class should call `super().__init__(**kwargs)` in its constructor. `**kwargs` can include `workers`, `use_multiprocessing`, `max_queue_size`. Do not pass these arguments to `fit()`, as they will be ignored.\n",
      "  self._warn_if_super_not_called()\n"
     ]
    },
    {
     "name": "stdout",
     "output_type": "stream",
     "text": [
      "\u001b[1m305/305\u001b[0m \u001b[32m━━━━━━━━━━━━━━━━━━━━\u001b[0m\u001b[37m\u001b[0m \u001b[1m8s\u001b[0m 25ms/step - accuracy: 0.0239 - loss: 29.2287\n",
      "Evaluating Office m1 against Office m1\n"
     ]
    },
    {
     "name": "stderr",
     "output_type": "stream",
     "text": [
      "WARNING:absl:Compiled the loaded model, but the compiled metrics have yet to be built. `model.compile_metrics` will be empty until you train or evaluate the model.\n",
      "/home/diogo/miniconda3/envs/tensorflow/lib/python3.9/site-packages/keras/src/trainers/data_adapters/py_dataset_adapter.py:121: UserWarning: Your `PyDataset` class should call `super().__init__(**kwargs)` in its constructor. `**kwargs` can include `workers`, `use_multiprocessing`, `max_queue_size`. Do not pass these arguments to `fit()`, as they will be ignored.\n",
      "  self._warn_if_super_not_called()\n"
     ]
    },
    {
     "name": "stdout",
     "output_type": "stream",
     "text": [
      "\u001b[1m479/479\u001b[0m \u001b[32m━━━━━━━━━━━━━━━━━━━━\u001b[0m\u001b[37m\u001b[0m \u001b[1m13s\u001b[0m 26ms/step - accuracy: 0.9855 - loss: 0.0563\n",
      "Evaluating Office m1 against Office m2\n"
     ]
    },
    {
     "name": "stderr",
     "output_type": "stream",
     "text": [
      "WARNING:absl:Compiled the loaded model, but the compiled metrics have yet to be built. `model.compile_metrics` will be empty until you train or evaluate the model.\n",
      "/home/diogo/miniconda3/envs/tensorflow/lib/python3.9/site-packages/keras/src/trainers/data_adapters/py_dataset_adapter.py:121: UserWarning: Your `PyDataset` class should call `super().__init__(**kwargs)` in its constructor. `**kwargs` can include `workers`, `use_multiprocessing`, `max_queue_size`. Do not pass these arguments to `fit()`, as they will be ignored.\n",
      "  self._warn_if_super_not_called()\n"
     ]
    },
    {
     "name": "stdout",
     "output_type": "stream",
     "text": [
      "\u001b[1m488/488\u001b[0m \u001b[32m━━━━━━━━━━━━━━━━━━━━\u001b[0m\u001b[37m\u001b[0m \u001b[1m13s\u001b[0m 27ms/step - accuracy: 0.0506 - loss: 32.5585\n",
      "Evaluating Office m1 against Office m3\n"
     ]
    },
    {
     "name": "stderr",
     "output_type": "stream",
     "text": [
      "WARNING:absl:Compiled the loaded model, but the compiled metrics have yet to be built. `model.compile_metrics` will be empty until you train or evaluate the model.\n",
      "/home/diogo/miniconda3/envs/tensorflow/lib/python3.9/site-packages/keras/src/trainers/data_adapters/py_dataset_adapter.py:121: UserWarning: Your `PyDataset` class should call `super().__init__(**kwargs)` in its constructor. `**kwargs` can include `workers`, `use_multiprocessing`, `max_queue_size`. Do not pass these arguments to `fit()`, as they will be ignored.\n",
      "  self._warn_if_super_not_called()\n"
     ]
    },
    {
     "name": "stdout",
     "output_type": "stream",
     "text": [
      "\u001b[1m458/458\u001b[0m \u001b[32m━━━━━━━━━━━━━━━━━━━━\u001b[0m\u001b[37m\u001b[0m \u001b[1m12s\u001b[0m 26ms/step - accuracy: 0.0117 - loss: 27.4081\n",
      "Evaluating Office m2 against Classroom m1\n"
     ]
    },
    {
     "name": "stderr",
     "output_type": "stream",
     "text": [
      "WARNING:absl:Compiled the loaded model, but the compiled metrics have yet to be built. `model.compile_metrics` will be empty until you train or evaluate the model.\n",
      "/home/diogo/miniconda3/envs/tensorflow/lib/python3.9/site-packages/keras/src/trainers/data_adapters/py_dataset_adapter.py:121: UserWarning: Your `PyDataset` class should call `super().__init__(**kwargs)` in its constructor. `**kwargs` can include `workers`, `use_multiprocessing`, `max_queue_size`. Do not pass these arguments to `fit()`, as they will be ignored.\n",
      "  self._warn_if_super_not_called()\n"
     ]
    },
    {
     "name": "stdout",
     "output_type": "stream",
     "text": [
      "\u001b[1m308/308\u001b[0m \u001b[32m━━━━━━━━━━━━━━━━━━━━\u001b[0m\u001b[37m\u001b[0m \u001b[1m8s\u001b[0m 26ms/step - accuracy: 0.1479 - loss: 66.4683\n",
      "Evaluating Office m2 against Classroom m2\n"
     ]
    },
    {
     "name": "stderr",
     "output_type": "stream",
     "text": [
      "WARNING:absl:Compiled the loaded model, but the compiled metrics have yet to be built. `model.compile_metrics` will be empty until you train or evaluate the model.\n",
      "/home/diogo/miniconda3/envs/tensorflow/lib/python3.9/site-packages/keras/src/trainers/data_adapters/py_dataset_adapter.py:121: UserWarning: Your `PyDataset` class should call `super().__init__(**kwargs)` in its constructor. `**kwargs` can include `workers`, `use_multiprocessing`, `max_queue_size`. Do not pass these arguments to `fit()`, as they will be ignored.\n",
      "  self._warn_if_super_not_called()\n"
     ]
    },
    {
     "name": "stdout",
     "output_type": "stream",
     "text": [
      "\u001b[1m295/295\u001b[0m \u001b[32m━━━━━━━━━━━━━━━━━━━━\u001b[0m\u001b[37m\u001b[0m \u001b[1m8s\u001b[0m 26ms/step - accuracy: 0.0275 - loss: 37.1261\n",
      "Evaluating Office m2 against Classroom m3\n"
     ]
    },
    {
     "name": "stderr",
     "output_type": "stream",
     "text": [
      "WARNING:absl:Compiled the loaded model, but the compiled metrics have yet to be built. `model.compile_metrics` will be empty until you train or evaluate the model.\n",
      "/home/diogo/miniconda3/envs/tensorflow/lib/python3.9/site-packages/keras/src/trainers/data_adapters/py_dataset_adapter.py:121: UserWarning: Your `PyDataset` class should call `super().__init__(**kwargs)` in its constructor. `**kwargs` can include `workers`, `use_multiprocessing`, `max_queue_size`. Do not pass these arguments to `fit()`, as they will be ignored.\n",
      "  self._warn_if_super_not_called()\n"
     ]
    },
    {
     "name": "stdout",
     "output_type": "stream",
     "text": [
      "\u001b[1m305/305\u001b[0m \u001b[32m━━━━━━━━━━━━━━━━━━━━\u001b[0m\u001b[37m\u001b[0m \u001b[1m8s\u001b[0m 26ms/step - accuracy: 0.0082 - loss: 55.9687\n",
      "Evaluating Office m2 against Office m1\n"
     ]
    },
    {
     "name": "stderr",
     "output_type": "stream",
     "text": [
      "WARNING:absl:Compiled the loaded model, but the compiled metrics have yet to be built. `model.compile_metrics` will be empty until you train or evaluate the model.\n",
      "/home/diogo/miniconda3/envs/tensorflow/lib/python3.9/site-packages/keras/src/trainers/data_adapters/py_dataset_adapter.py:121: UserWarning: Your `PyDataset` class should call `super().__init__(**kwargs)` in its constructor. `**kwargs` can include `workers`, `use_multiprocessing`, `max_queue_size`. Do not pass these arguments to `fit()`, as they will be ignored.\n",
      "  self._warn_if_super_not_called()\n"
     ]
    },
    {
     "name": "stdout",
     "output_type": "stream",
     "text": [
      "\u001b[1m479/479\u001b[0m \u001b[32m━━━━━━━━━━━━━━━━━━━━\u001b[0m\u001b[37m\u001b[0m \u001b[1m13s\u001b[0m 26ms/step - accuracy: 0.0844 - loss: 44.2572\n",
      "Evaluating Office m2 against Office m2\n"
     ]
    },
    {
     "name": "stderr",
     "output_type": "stream",
     "text": [
      "WARNING:absl:Compiled the loaded model, but the compiled metrics have yet to be built. `model.compile_metrics` will be empty until you train or evaluate the model.\n",
      "/home/diogo/miniconda3/envs/tensorflow/lib/python3.9/site-packages/keras/src/trainers/data_adapters/py_dataset_adapter.py:121: UserWarning: Your `PyDataset` class should call `super().__init__(**kwargs)` in its constructor. `**kwargs` can include `workers`, `use_multiprocessing`, `max_queue_size`. Do not pass these arguments to `fit()`, as they will be ignored.\n",
      "  self._warn_if_super_not_called()\n"
     ]
    },
    {
     "name": "stdout",
     "output_type": "stream",
     "text": [
      "\u001b[1m488/488\u001b[0m \u001b[32m━━━━━━━━━━━━━━━━━━━━\u001b[0m\u001b[37m\u001b[0m \u001b[1m13s\u001b[0m 26ms/step - accuracy: 0.9028 - loss: 0.4161\n",
      "Evaluating Office m2 against Office m3\n"
     ]
    },
    {
     "name": "stderr",
     "output_type": "stream",
     "text": [
      "WARNING:absl:Compiled the loaded model, but the compiled metrics have yet to be built. `model.compile_metrics` will be empty until you train or evaluate the model.\n",
      "/home/diogo/miniconda3/envs/tensorflow/lib/python3.9/site-packages/keras/src/trainers/data_adapters/py_dataset_adapter.py:121: UserWarning: Your `PyDataset` class should call `super().__init__(**kwargs)` in its constructor. `**kwargs` can include `workers`, `use_multiprocessing`, `max_queue_size`. Do not pass these arguments to `fit()`, as they will be ignored.\n",
      "  self._warn_if_super_not_called()\n"
     ]
    },
    {
     "name": "stdout",
     "output_type": "stream",
     "text": [
      "\u001b[1m458/458\u001b[0m \u001b[32m━━━━━━━━━━━━━━━━━━━━\u001b[0m\u001b[37m\u001b[0m \u001b[1m12s\u001b[0m 26ms/step - accuracy: 0.1830 - loss: 31.7032\n",
      "Evaluating Office m3 against Classroom m1\n"
     ]
    },
    {
     "name": "stderr",
     "output_type": "stream",
     "text": [
      "WARNING:absl:Compiled the loaded model, but the compiled metrics have yet to be built. `model.compile_metrics` will be empty until you train or evaluate the model.\n",
      "/home/diogo/miniconda3/envs/tensorflow/lib/python3.9/site-packages/keras/src/trainers/data_adapters/py_dataset_adapter.py:121: UserWarning: Your `PyDataset` class should call `super().__init__(**kwargs)` in its constructor. `**kwargs` can include `workers`, `use_multiprocessing`, `max_queue_size`. Do not pass these arguments to `fit()`, as they will be ignored.\n",
      "  self._warn_if_super_not_called()\n"
     ]
    },
    {
     "name": "stdout",
     "output_type": "stream",
     "text": [
      "\u001b[1m308/308\u001b[0m \u001b[32m━━━━━━━━━━━━━━━━━━━━\u001b[0m\u001b[37m\u001b[0m \u001b[1m8s\u001b[0m 25ms/step - accuracy: 0.0505 - loss: 47.3872\n",
      "Evaluating Office m3 against Classroom m2\n"
     ]
    },
    {
     "name": "stderr",
     "output_type": "stream",
     "text": [
      "WARNING:absl:Compiled the loaded model, but the compiled metrics have yet to be built. `model.compile_metrics` will be empty until you train or evaluate the model.\n",
      "/home/diogo/miniconda3/envs/tensorflow/lib/python3.9/site-packages/keras/src/trainers/data_adapters/py_dataset_adapter.py:121: UserWarning: Your `PyDataset` class should call `super().__init__(**kwargs)` in its constructor. `**kwargs` can include `workers`, `use_multiprocessing`, `max_queue_size`. Do not pass these arguments to `fit()`, as they will be ignored.\n",
      "  self._warn_if_super_not_called()\n"
     ]
    },
    {
     "name": "stdout",
     "output_type": "stream",
     "text": [
      "\u001b[1m295/295\u001b[0m \u001b[32m━━━━━━━━━━━━━━━━━━━━\u001b[0m\u001b[37m\u001b[0m \u001b[1m8s\u001b[0m 26ms/step - accuracy: 0.0602 - loss: 41.6524\n",
      "Evaluating Office m3 against Classroom m3\n"
     ]
    },
    {
     "name": "stderr",
     "output_type": "stream",
     "text": [
      "WARNING:absl:Compiled the loaded model, but the compiled metrics have yet to be built. `model.compile_metrics` will be empty until you train or evaluate the model.\n",
      "/home/diogo/miniconda3/envs/tensorflow/lib/python3.9/site-packages/keras/src/trainers/data_adapters/py_dataset_adapter.py:121: UserWarning: Your `PyDataset` class should call `super().__init__(**kwargs)` in its constructor. `**kwargs` can include `workers`, `use_multiprocessing`, `max_queue_size`. Do not pass these arguments to `fit()`, as they will be ignored.\n",
      "  self._warn_if_super_not_called()\n"
     ]
    },
    {
     "name": "stdout",
     "output_type": "stream",
     "text": [
      "\u001b[1m305/305\u001b[0m \u001b[32m━━━━━━━━━━━━━━━━━━━━\u001b[0m\u001b[37m\u001b[0m \u001b[1m8s\u001b[0m 26ms/step - accuracy: 0.0606 - loss: 48.0941\n",
      "Evaluating Office m3 against Office m1\n"
     ]
    },
    {
     "name": "stderr",
     "output_type": "stream",
     "text": [
      "WARNING:absl:Compiled the loaded model, but the compiled metrics have yet to be built. `model.compile_metrics` will be empty until you train or evaluate the model.\n",
      "/home/diogo/miniconda3/envs/tensorflow/lib/python3.9/site-packages/keras/src/trainers/data_adapters/py_dataset_adapter.py:121: UserWarning: Your `PyDataset` class should call `super().__init__(**kwargs)` in its constructor. `**kwargs` can include `workers`, `use_multiprocessing`, `max_queue_size`. Do not pass these arguments to `fit()`, as they will be ignored.\n",
      "  self._warn_if_super_not_called()\n"
     ]
    },
    {
     "name": "stdout",
     "output_type": "stream",
     "text": [
      "\u001b[1m479/479\u001b[0m \u001b[32m━━━━━━━━━━━━━━━━━━━━\u001b[0m\u001b[37m\u001b[0m \u001b[1m13s\u001b[0m 26ms/step - accuracy: 0.0323 - loss: 51.3416\n",
      "Evaluating Office m3 against Office m2\n"
     ]
    },
    {
     "name": "stderr",
     "output_type": "stream",
     "text": [
      "WARNING:absl:Compiled the loaded model, but the compiled metrics have yet to be built. `model.compile_metrics` will be empty until you train or evaluate the model.\n",
      "/home/diogo/miniconda3/envs/tensorflow/lib/python3.9/site-packages/keras/src/trainers/data_adapters/py_dataset_adapter.py:121: UserWarning: Your `PyDataset` class should call `super().__init__(**kwargs)` in its constructor. `**kwargs` can include `workers`, `use_multiprocessing`, `max_queue_size`. Do not pass these arguments to `fit()`, as they will be ignored.\n",
      "  self._warn_if_super_not_called()\n"
     ]
    },
    {
     "name": "stdout",
     "output_type": "stream",
     "text": [
      "\u001b[1m488/488\u001b[0m \u001b[32m━━━━━━━━━━━━━━━━━━━━\u001b[0m\u001b[37m\u001b[0m \u001b[1m14s\u001b[0m 27ms/step - accuracy: 0.0556 - loss: 31.1565\n",
      "Evaluating Office m3 against Office m3\n"
     ]
    },
    {
     "name": "stderr",
     "output_type": "stream",
     "text": [
      "WARNING:absl:Compiled the loaded model, but the compiled metrics have yet to be built. `model.compile_metrics` will be empty until you train or evaluate the model.\n",
      "/home/diogo/miniconda3/envs/tensorflow/lib/python3.9/site-packages/keras/src/trainers/data_adapters/py_dataset_adapter.py:121: UserWarning: Your `PyDataset` class should call `super().__init__(**kwargs)` in its constructor. `**kwargs` can include `workers`, `use_multiprocessing`, `max_queue_size`. Do not pass these arguments to `fit()`, as they will be ignored.\n",
      "  self._warn_if_super_not_called()\n"
     ]
    },
    {
     "name": "stdout",
     "output_type": "stream",
     "text": [
      "\u001b[1m458/458\u001b[0m \u001b[32m━━━━━━━━━━━━━━━━━━━━\u001b[0m\u001b[37m\u001b[0m \u001b[1m12s\u001b[0m 26ms/step - accuracy: 0.9704 - loss: 0.0943\n"
     ]
    }
   ],
   "source": [
    "train_environments = ['Classroom', 'Office']\n",
    "train_monitors = ['m1', 'm2', 'm3']\n",
    "\n",
    "test_environments  = ['Classroom', 'Office']\n",
    "test_monitors  = ['m1', 'm2', 'm3']\n",
    "\n",
    "results = {'train_environments': [], 'train_monitors': [], 'test_environments': [], 'test_monitors': [], 'final_loss': [], 'final_accuracy': []}\n",
    "for train_environment in train_environments:\n",
    "  for train_monitor in train_monitors:\n",
    "    for test_environment in test_environments:\n",
    "      for test_monitor in test_monitors:\n",
    "        print(f\"Evaluating {train_environment} {train_monitor} against {test_environment} {test_monitor}\")\n",
    "        final_loss, final_accuracy = evaluate_subject_with_data_from(train_environment, train_monitor, test_environment, test_monitor)\n",
    "        results['train_environments'].append(train_environment)\n",
    "        results['train_monitors'].append(train_monitor)\n",
    "        results['test_environments'].append(test_environment)\n",
    "        results['test_monitors'].append(test_monitor)\n",
    "        results['final_loss'].append(final_loss)\n",
    "        results['final_accuracy'].append(final_accuracy)\n"
   ]
  },
  {
   "cell_type": "code",
   "execution_count": 10,
   "id": "ff122ced",
   "metadata": {},
   "outputs": [
    {
     "data": {
      "text/html": [
       "<div>\n",
       "<style scoped>\n",
       "    .dataframe tbody tr th:only-of-type {\n",
       "        vertical-align: middle;\n",
       "    }\n",
       "\n",
       "    .dataframe tbody tr th {\n",
       "        vertical-align: top;\n",
       "    }\n",
       "\n",
       "    .dataframe thead th {\n",
       "        text-align: right;\n",
       "    }\n",
       "</style>\n",
       "<table border=\"1\" class=\"dataframe\">\n",
       "  <thead>\n",
       "    <tr style=\"text-align: right;\">\n",
       "      <th></th>\n",
       "      <th>train_environments</th>\n",
       "      <th>train_monitors</th>\n",
       "      <th>test_environments</th>\n",
       "      <th>test_monitors</th>\n",
       "      <th>final_loss</th>\n",
       "      <th>final_accuracy</th>\n",
       "    </tr>\n",
       "  </thead>\n",
       "  <tbody>\n",
       "    <tr>\n",
       "      <th>0</th>\n",
       "      <td>Classroom</td>\n",
       "      <td>m1</td>\n",
       "      <td>Classroom</td>\n",
       "      <td>m1</td>\n",
       "      <td>0.141291</td>\n",
       "      <td>0.965351</td>\n",
       "    </tr>\n",
       "    <tr>\n",
       "      <th>1</th>\n",
       "      <td>Classroom</td>\n",
       "      <td>m1</td>\n",
       "      <td>Classroom</td>\n",
       "      <td>m2</td>\n",
       "      <td>11.805790</td>\n",
       "      <td>0.055191</td>\n",
       "    </tr>\n",
       "    <tr>\n",
       "      <th>2</th>\n",
       "      <td>Classroom</td>\n",
       "      <td>m1</td>\n",
       "      <td>Classroom</td>\n",
       "      <td>m3</td>\n",
       "      <td>11.811633</td>\n",
       "      <td>0.087602</td>\n",
       "    </tr>\n",
       "    <tr>\n",
       "      <th>3</th>\n",
       "      <td>Classroom</td>\n",
       "      <td>m1</td>\n",
       "      <td>Office</td>\n",
       "      <td>m1</td>\n",
       "      <td>14.996040</td>\n",
       "      <td>0.055095</td>\n",
       "    </tr>\n",
       "    <tr>\n",
       "      <th>4</th>\n",
       "      <td>Classroom</td>\n",
       "      <td>m1</td>\n",
       "      <td>Office</td>\n",
       "      <td>m2</td>\n",
       "      <td>18.573046</td>\n",
       "      <td>0.056224</td>\n",
       "    </tr>\n",
       "    <tr>\n",
       "      <th>5</th>\n",
       "      <td>Classroom</td>\n",
       "      <td>m1</td>\n",
       "      <td>Office</td>\n",
       "      <td>m3</td>\n",
       "      <td>12.357594</td>\n",
       "      <td>0.057451</td>\n",
       "    </tr>\n",
       "    <tr>\n",
       "      <th>6</th>\n",
       "      <td>Classroom</td>\n",
       "      <td>m2</td>\n",
       "      <td>Classroom</td>\n",
       "      <td>m1</td>\n",
       "      <td>40.302887</td>\n",
       "      <td>0.082894</td>\n",
       "    </tr>\n",
       "    <tr>\n",
       "      <th>7</th>\n",
       "      <td>Classroom</td>\n",
       "      <td>m2</td>\n",
       "      <td>Classroom</td>\n",
       "      <td>m2</td>\n",
       "      <td>0.123919</td>\n",
       "      <td>0.960593</td>\n",
       "    </tr>\n",
       "    <tr>\n",
       "      <th>8</th>\n",
       "      <td>Classroom</td>\n",
       "      <td>m2</td>\n",
       "      <td>Classroom</td>\n",
       "      <td>m3</td>\n",
       "      <td>32.196171</td>\n",
       "      <td>0.098053</td>\n",
       "    </tr>\n",
       "    <tr>\n",
       "      <th>9</th>\n",
       "      <td>Classroom</td>\n",
       "      <td>m2</td>\n",
       "      <td>Office</td>\n",
       "      <td>m1</td>\n",
       "      <td>37.394539</td>\n",
       "      <td>0.059303</td>\n",
       "    </tr>\n",
       "    <tr>\n",
       "      <th>10</th>\n",
       "      <td>Classroom</td>\n",
       "      <td>m2</td>\n",
       "      <td>Office</td>\n",
       "      <td>m2</td>\n",
       "      <td>19.322887</td>\n",
       "      <td>0.045754</td>\n",
       "    </tr>\n",
       "    <tr>\n",
       "      <th>11</th>\n",
       "      <td>Classroom</td>\n",
       "      <td>m2</td>\n",
       "      <td>Office</td>\n",
       "      <td>m3</td>\n",
       "      <td>20.024994</td>\n",
       "      <td>0.073315</td>\n",
       "    </tr>\n",
       "    <tr>\n",
       "      <th>12</th>\n",
       "      <td>Classroom</td>\n",
       "      <td>m3</td>\n",
       "      <td>Classroom</td>\n",
       "      <td>m1</td>\n",
       "      <td>26.016933</td>\n",
       "      <td>0.127537</td>\n",
       "    </tr>\n",
       "    <tr>\n",
       "      <th>13</th>\n",
       "      <td>Classroom</td>\n",
       "      <td>m3</td>\n",
       "      <td>Classroom</td>\n",
       "      <td>m2</td>\n",
       "      <td>27.112774</td>\n",
       "      <td>0.041208</td>\n",
       "    </tr>\n",
       "    <tr>\n",
       "      <th>14</th>\n",
       "      <td>Classroom</td>\n",
       "      <td>m3</td>\n",
       "      <td>Classroom</td>\n",
       "      <td>m3</td>\n",
       "      <td>0.066077</td>\n",
       "      <td>0.979662</td>\n",
       "    </tr>\n",
       "    <tr>\n",
       "      <th>15</th>\n",
       "      <td>Classroom</td>\n",
       "      <td>m3</td>\n",
       "      <td>Office</td>\n",
       "      <td>m1</td>\n",
       "      <td>28.500566</td>\n",
       "      <td>0.034708</td>\n",
       "    </tr>\n",
       "    <tr>\n",
       "      <th>16</th>\n",
       "      <td>Classroom</td>\n",
       "      <td>m3</td>\n",
       "      <td>Office</td>\n",
       "      <td>m2</td>\n",
       "      <td>19.833286</td>\n",
       "      <td>0.079310</td>\n",
       "    </tr>\n",
       "    <tr>\n",
       "      <th>17</th>\n",
       "      <td>Classroom</td>\n",
       "      <td>m3</td>\n",
       "      <td>Office</td>\n",
       "      <td>m3</td>\n",
       "      <td>15.752870</td>\n",
       "      <td>0.045988</td>\n",
       "    </tr>\n",
       "    <tr>\n",
       "      <th>18</th>\n",
       "      <td>Office</td>\n",
       "      <td>m1</td>\n",
       "      <td>Classroom</td>\n",
       "      <td>m1</td>\n",
       "      <td>35.711624</td>\n",
       "      <td>0.089134</td>\n",
       "    </tr>\n",
       "    <tr>\n",
       "      <th>19</th>\n",
       "      <td>Office</td>\n",
       "      <td>m1</td>\n",
       "      <td>Classroom</td>\n",
       "      <td>m2</td>\n",
       "      <td>26.653046</td>\n",
       "      <td>0.065519</td>\n",
       "    </tr>\n",
       "    <tr>\n",
       "      <th>20</th>\n",
       "      <td>Office</td>\n",
       "      <td>m1</td>\n",
       "      <td>Classroom</td>\n",
       "      <td>m3</td>\n",
       "      <td>25.829531</td>\n",
       "      <td>0.064447</td>\n",
       "    </tr>\n",
       "    <tr>\n",
       "      <th>21</th>\n",
       "      <td>Office</td>\n",
       "      <td>m1</td>\n",
       "      <td>Office</td>\n",
       "      <td>m1</td>\n",
       "      <td>0.067035</td>\n",
       "      <td>0.983625</td>\n",
       "    </tr>\n",
       "    <tr>\n",
       "      <th>22</th>\n",
       "      <td>Office</td>\n",
       "      <td>m1</td>\n",
       "      <td>Office</td>\n",
       "      <td>m2</td>\n",
       "      <td>32.636345</td>\n",
       "      <td>0.087570</td>\n",
       "    </tr>\n",
       "    <tr>\n",
       "      <th>23</th>\n",
       "      <td>Office</td>\n",
       "      <td>m1</td>\n",
       "      <td>Office</td>\n",
       "      <td>m3</td>\n",
       "      <td>27.644444</td>\n",
       "      <td>0.020708</td>\n",
       "    </tr>\n",
       "    <tr>\n",
       "      <th>24</th>\n",
       "      <td>Office</td>\n",
       "      <td>m2</td>\n",
       "      <td>Classroom</td>\n",
       "      <td>m1</td>\n",
       "      <td>74.017654</td>\n",
       "      <td>0.035866</td>\n",
       "    </tr>\n",
       "    <tr>\n",
       "      <th>25</th>\n",
       "      <td>Office</td>\n",
       "      <td>m2</td>\n",
       "      <td>Classroom</td>\n",
       "      <td>m2</td>\n",
       "      <td>34.904686</td>\n",
       "      <td>0.055032</td>\n",
       "    </tr>\n",
       "    <tr>\n",
       "      <th>26</th>\n",
       "      <td>Office</td>\n",
       "      <td>m2</td>\n",
       "      <td>Classroom</td>\n",
       "      <td>m3</td>\n",
       "      <td>56.383549</td>\n",
       "      <td>0.033709</td>\n",
       "    </tr>\n",
       "    <tr>\n",
       "      <th>27</th>\n",
       "      <td>Office</td>\n",
       "      <td>m2</td>\n",
       "      <td>Office</td>\n",
       "      <td>m1</td>\n",
       "      <td>43.421009</td>\n",
       "      <td>0.077016</td>\n",
       "    </tr>\n",
       "    <tr>\n",
       "      <th>28</th>\n",
       "      <td>Office</td>\n",
       "      <td>m2</td>\n",
       "      <td>Office</td>\n",
       "      <td>m2</td>\n",
       "      <td>0.231735</td>\n",
       "      <td>0.940478</td>\n",
       "    </tr>\n",
       "    <tr>\n",
       "      <th>29</th>\n",
       "      <td>Office</td>\n",
       "      <td>m2</td>\n",
       "      <td>Office</td>\n",
       "      <td>m3</td>\n",
       "      <td>30.131042</td>\n",
       "      <td>0.076522</td>\n",
       "    </tr>\n",
       "    <tr>\n",
       "      <th>30</th>\n",
       "      <td>Office</td>\n",
       "      <td>m3</td>\n",
       "      <td>Classroom</td>\n",
       "      <td>m1</td>\n",
       "      <td>44.498760</td>\n",
       "      <td>0.047534</td>\n",
       "    </tr>\n",
       "    <tr>\n",
       "      <th>31</th>\n",
       "      <td>Office</td>\n",
       "      <td>m3</td>\n",
       "      <td>Classroom</td>\n",
       "      <td>m2</td>\n",
       "      <td>39.902508</td>\n",
       "      <td>0.033210</td>\n",
       "    </tr>\n",
       "    <tr>\n",
       "      <th>32</th>\n",
       "      <td>Office</td>\n",
       "      <td>m3</td>\n",
       "      <td>Classroom</td>\n",
       "      <td>m3</td>\n",
       "      <td>52.647591</td>\n",
       "      <td>0.033402</td>\n",
       "    </tr>\n",
       "    <tr>\n",
       "      <th>33</th>\n",
       "      <td>Office</td>\n",
       "      <td>m3</td>\n",
       "      <td>Office</td>\n",
       "      <td>m1</td>\n",
       "      <td>45.703732</td>\n",
       "      <td>0.052355</td>\n",
       "    </tr>\n",
       "    <tr>\n",
       "      <th>34</th>\n",
       "      <td>Office</td>\n",
       "      <td>m3</td>\n",
       "      <td>Office</td>\n",
       "      <td>m2</td>\n",
       "      <td>29.295559</td>\n",
       "      <td>0.052766</td>\n",
       "    </tr>\n",
       "    <tr>\n",
       "      <th>35</th>\n",
       "      <td>Office</td>\n",
       "      <td>m3</td>\n",
       "      <td>Office</td>\n",
       "      <td>m3</td>\n",
       "      <td>0.094761</td>\n",
       "      <td>0.969262</td>\n",
       "    </tr>\n",
       "  </tbody>\n",
       "</table>\n",
       "</div>"
      ],
      "text/plain": [
       "   train_environments train_monitors test_environments test_monitors  \\\n",
       "0           Classroom             m1         Classroom            m1   \n",
       "1           Classroom             m1         Classroom            m2   \n",
       "2           Classroom             m1         Classroom            m3   \n",
       "3           Classroom             m1            Office            m1   \n",
       "4           Classroom             m1            Office            m2   \n",
       "5           Classroom             m1            Office            m3   \n",
       "6           Classroom             m2         Classroom            m1   \n",
       "7           Classroom             m2         Classroom            m2   \n",
       "8           Classroom             m2         Classroom            m3   \n",
       "9           Classroom             m2            Office            m1   \n",
       "10          Classroom             m2            Office            m2   \n",
       "11          Classroom             m2            Office            m3   \n",
       "12          Classroom             m3         Classroom            m1   \n",
       "13          Classroom             m3         Classroom            m2   \n",
       "14          Classroom             m3         Classroom            m3   \n",
       "15          Classroom             m3            Office            m1   \n",
       "16          Classroom             m3            Office            m2   \n",
       "17          Classroom             m3            Office            m3   \n",
       "18             Office             m1         Classroom            m1   \n",
       "19             Office             m1         Classroom            m2   \n",
       "20             Office             m1         Classroom            m3   \n",
       "21             Office             m1            Office            m1   \n",
       "22             Office             m1            Office            m2   \n",
       "23             Office             m1            Office            m3   \n",
       "24             Office             m2         Classroom            m1   \n",
       "25             Office             m2         Classroom            m2   \n",
       "26             Office             m2         Classroom            m3   \n",
       "27             Office             m2            Office            m1   \n",
       "28             Office             m2            Office            m2   \n",
       "29             Office             m2            Office            m3   \n",
       "30             Office             m3         Classroom            m1   \n",
       "31             Office             m3         Classroom            m2   \n",
       "32             Office             m3         Classroom            m3   \n",
       "33             Office             m3            Office            m1   \n",
       "34             Office             m3            Office            m2   \n",
       "35             Office             m3            Office            m3   \n",
       "\n",
       "    final_loss  final_accuracy  \n",
       "0     0.141291        0.965351  \n",
       "1    11.805790        0.055191  \n",
       "2    11.811633        0.087602  \n",
       "3    14.996040        0.055095  \n",
       "4    18.573046        0.056224  \n",
       "5    12.357594        0.057451  \n",
       "6    40.302887        0.082894  \n",
       "7     0.123919        0.960593  \n",
       "8    32.196171        0.098053  \n",
       "9    37.394539        0.059303  \n",
       "10   19.322887        0.045754  \n",
       "11   20.024994        0.073315  \n",
       "12   26.016933        0.127537  \n",
       "13   27.112774        0.041208  \n",
       "14    0.066077        0.979662  \n",
       "15   28.500566        0.034708  \n",
       "16   19.833286        0.079310  \n",
       "17   15.752870        0.045988  \n",
       "18   35.711624        0.089134  \n",
       "19   26.653046        0.065519  \n",
       "20   25.829531        0.064447  \n",
       "21    0.067035        0.983625  \n",
       "22   32.636345        0.087570  \n",
       "23   27.644444        0.020708  \n",
       "24   74.017654        0.035866  \n",
       "25   34.904686        0.055032  \n",
       "26   56.383549        0.033709  \n",
       "27   43.421009        0.077016  \n",
       "28    0.231735        0.940478  \n",
       "29   30.131042        0.076522  \n",
       "30   44.498760        0.047534  \n",
       "31   39.902508        0.033210  \n",
       "32   52.647591        0.033402  \n",
       "33   45.703732        0.052355  \n",
       "34   29.295559        0.052766  \n",
       "35    0.094761        0.969262  "
      ]
     },
     "execution_count": 10,
     "metadata": {},
     "output_type": "execute_result"
    }
   ],
   "source": [
    "results_df = pd.DataFrame(results)\n",
    "results_df.to_csv('SAIDAS/01-results_fine_grained.csv', index=False)\n",
    "results_df"
   ]
  },
  {
   "cell_type": "code",
   "execution_count": null,
   "id": "9b612268",
   "metadata": {},
   "outputs": [],
   "source": []
  },
  {
   "cell_type": "code",
   "execution_count": 88,
   "id": "60515454",
   "metadata": {},
   "outputs": [
    {
     "data": {
      "image/png": "[encoded data removed]",
      "text/plain": [
       "<Figure size 800x400 with 1 Axes>"
      ]
     },
     "metadata": {},
     "output_type": "display_data"
    },
    {
     "data": {
      "text/html": [
       "<div>\n",
       "<style scoped>\n",
       "    .dataframe tbody tr th:only-of-type {\n",
       "        vertical-align: middle;\n",
       "    }\n",
       "\n",
       "    .dataframe tbody tr th {\n",
       "        vertical-align: top;\n",
       "    }\n",
       "\n",
       "    .dataframe thead th {\n",
       "        text-align: right;\n",
       "    }\n",
       "</style>\n",
       "<table border=\"1\" class=\"dataframe\">\n",
       "  <thead>\n",
       "    <tr style=\"text-align: right;\">\n",
       "      <th></th>\n",
       "      <th>train_environments</th>\n",
       "      <th>train_monitors</th>\n",
       "      <th>test_environments</th>\n",
       "      <th>test_monitors</th>\n",
       "      <th>final_loss</th>\n",
       "      <th>final_accuracy</th>\n",
       "    </tr>\n",
       "  </thead>\n",
       "  <tbody>\n",
       "    <tr>\n",
       "      <th>0</th>\n",
       "      <td>Classroom</td>\n",
       "      <td>m1</td>\n",
       "      <td>Classroom</td>\n",
       "      <td>m1</td>\n",
       "      <td>0.141291</td>\n",
       "      <td>0.965351</td>\n",
       "    </tr>\n",
       "    <tr>\n",
       "      <th>7</th>\n",
       "      <td>Classroom</td>\n",
       "      <td>m2</td>\n",
       "      <td>Classroom</td>\n",
       "      <td>m2</td>\n",
       "      <td>0.123919</td>\n",
       "      <td>0.960593</td>\n",
       "    </tr>\n",
       "    <tr>\n",
       "      <th>14</th>\n",
       "      <td>Classroom</td>\n",
       "      <td>m3</td>\n",
       "      <td>Classroom</td>\n",
       "      <td>m3</td>\n",
       "      <td>0.066077</td>\n",
       "      <td>0.979662</td>\n",
       "    </tr>\n",
       "    <tr>\n",
       "      <th>21</th>\n",
       "      <td>Office</td>\n",
       "      <td>m1</td>\n",
       "      <td>Office</td>\n",
       "      <td>m1</td>\n",
       "      <td>0.067035</td>\n",
       "      <td>0.983625</td>\n",
       "    </tr>\n",
       "    <tr>\n",
       "      <th>28</th>\n",
       "      <td>Office</td>\n",
       "      <td>m2</td>\n",
       "      <td>Office</td>\n",
       "      <td>m2</td>\n",
       "      <td>0.231735</td>\n",
       "      <td>0.940478</td>\n",
       "    </tr>\n",
       "    <tr>\n",
       "      <th>35</th>\n",
       "      <td>Office</td>\n",
       "      <td>m3</td>\n",
       "      <td>Office</td>\n",
       "      <td>m3</td>\n",
       "      <td>0.094761</td>\n",
       "      <td>0.969262</td>\n",
       "    </tr>\n",
       "  </tbody>\n",
       "</table>\n",
       "</div>"
      ],
      "text/plain": [
       "   train_environments train_monitors test_environments test_monitors  \\\n",
       "0           Classroom             m1         Classroom            m1   \n",
       "7           Classroom             m2         Classroom            m2   \n",
       "14          Classroom             m3         Classroom            m3   \n",
       "21             Office             m1            Office            m1   \n",
       "28             Office             m2            Office            m2   \n",
       "35             Office             m3            Office            m3   \n",
       "\n",
       "    final_loss  final_accuracy  \n",
       "0     0.141291        0.965351  \n",
       "7     0.123919        0.960593  \n",
       "14    0.066077        0.979662  \n",
       "21    0.067035        0.983625  \n",
       "28    0.231735        0.940478  \n",
       "35    0.094761        0.969262  "
      ]
     },
     "metadata": {},
     "output_type": "display_data"
    }
   ],
   "source": [
    "def plot_fig12(df):\n",
    "  df = df.loc[(df['train_environments']==df['test_environments'])&(df['train_monitors'] == df['test_monitors'])]\n",
    "\n",
    "  # Configurações\n",
    "  train_environments = ['Classroom', 'Office']\n",
    "  train_monitors = ['m1', 'm2', 'm3']\n",
    "  hatches = ['//', '\\\\\\\\']  # Padrões de hachura\n",
    "  colors = ['cyan', 'blue']  # Cores de contorno\n",
    "  bar_width = 0.2\n",
    "\n",
    "  x = np.arange(len(train_monitors))  \n",
    "\n",
    "  fig, ax = plt.subplots(figsize=(8, 4))\n",
    "\n",
    "  # Plot\n",
    "  for i, train_monitor in enumerate(train_monitors):\n",
    "    for j, train_environment in enumerate(train_environments):\n",
    "      accuracy = df[(df['train_monitors'] == train_monitor) & (df['train_environments'] == train_environment)]['final_accuracy'].item() * 100\n",
    "      # print( f\"Accuracy for {train_environment} {train_monitor}: {accuracy}\")\n",
    "      bars = ax.bar(i + i*bar_width + j*bar_width, accuracy, width=bar_width,  hatch=hatches[j], color='none', edgecolor=colors[j])\n",
    "\n",
    "      # Adicionar o valor percentual acima de cada barra\n",
    "      for bar in bars:\n",
    "        height = bar.get_height()\n",
    "        ax.text(bar.get_x() + bar.get_width()/2, height + 1, f'{height:.1f}%', ha='center', va='bottom', fontsize=8)\n",
    "\n",
    "  # Customizações\n",
    "  ax.set_ylabel('Accuracy (%)')\n",
    "  ax.set_xticks(x + bar_width)\n",
    "  ax.set_xticklabels(['M1', 'M2', 'M3'])\n",
    "  ax.legend(labels=train_environments, loc='upper center')\n",
    "  ax.set_ylim(80, 105)\n",
    "  ax.grid(axis='y', linestyle='--', alpha=0.7)\n",
    "\n",
    "  plt.tight_layout()\n",
    "  plt.title('Performance when trained and evaluated with data of same monitor and environment')\n",
    "  plt.show()\n",
    "  display(df)\n",
    "\n",
    "\n",
    "plot_fig12(results_df)\n"
   ]
  },
  {
   "attachments": {
    "image.png": {
     "image/png": "[encoded data removed]"
    }
   },
   "cell_type": "markdown",
   "id": "209145d2",
   "metadata": {},
   "source": [
    "no artigo:\n",
    "**IV. E XPERIMENTAL E VALUATION**\n",
    "**B. Performance Evaluation of SiMWiSense**\n",
    "\n",
    ">The simultaneous multi-subject activity classiﬁcation performance of SiMWiSense with baseline CNN is presented in\n",
    "Figure 12. The average accuracy in the environments: ofﬁce, classroom and kitchen are 98.51%, 97.37% and 97.49% respectively which follows the similar trend in performance depicting the stability and robustness of SiMWiSense. Moreover, the performance discrepancy of monitors M1, M2 and M3 are less than 2% achieving an average accuracy of 98.0%, 96.84% and 98.54% respectively with M1, M2 and M3.\n",
    "\n",
    "![image.png](attachment:image.png)"
   ]
  },
  {
   "cell_type": "code",
   "execution_count": 90,
   "id": "0c57e874",
   "metadata": {},
   "outputs": [
    {
     "data": {
      "text/html": [
       "<div>\n",
       "<style scoped>\n",
       "    .dataframe tbody tr th:only-of-type {\n",
       "        vertical-align: middle;\n",
       "    }\n",
       "\n",
       "    .dataframe tbody tr th {\n",
       "        vertical-align: top;\n",
       "    }\n",
       "\n",
       "    .dataframe thead th {\n",
       "        text-align: right;\n",
       "    }\n",
       "</style>\n",
       "<table border=\"1\" class=\"dataframe\">\n",
       "  <thead>\n",
       "    <tr style=\"text-align: right;\">\n",
       "      <th></th>\n",
       "      <th>train_environments</th>\n",
       "      <th>train_monitors</th>\n",
       "      <th>test_environments</th>\n",
       "      <th>test_monitors</th>\n",
       "      <th>final_loss</th>\n",
       "      <th>final_accuracy</th>\n",
       "    </tr>\n",
       "  </thead>\n",
       "  <tbody>\n",
       "    <tr>\n",
       "      <th>0</th>\n",
       "      <td>Classroom</td>\n",
       "      <td>m1</td>\n",
       "      <td>Classroom</td>\n",
       "      <td>m1</td>\n",
       "      <td>0.141291</td>\n",
       "      <td>0.965351</td>\n",
       "    </tr>\n",
       "    <tr>\n",
       "      <th>1</th>\n",
       "      <td>Classroom</td>\n",
       "      <td>m1</td>\n",
       "      <td>Classroom</td>\n",
       "      <td>m2</td>\n",
       "      <td>11.805790</td>\n",
       "      <td>0.055191</td>\n",
       "    </tr>\n",
       "    <tr>\n",
       "      <th>2</th>\n",
       "      <td>Classroom</td>\n",
       "      <td>m1</td>\n",
       "      <td>Classroom</td>\n",
       "      <td>m3</td>\n",
       "      <td>11.811633</td>\n",
       "      <td>0.087602</td>\n",
       "    </tr>\n",
       "    <tr>\n",
       "      <th>3</th>\n",
       "      <td>Classroom</td>\n",
       "      <td>m1</td>\n",
       "      <td>Office</td>\n",
       "      <td>m1</td>\n",
       "      <td>14.996040</td>\n",
       "      <td>0.055095</td>\n",
       "    </tr>\n",
       "    <tr>\n",
       "      <th>4</th>\n",
       "      <td>Classroom</td>\n",
       "      <td>m1</td>\n",
       "      <td>Office</td>\n",
       "      <td>m2</td>\n",
       "      <td>18.573046</td>\n",
       "      <td>0.056224</td>\n",
       "    </tr>\n",
       "    <tr>\n",
       "      <th>5</th>\n",
       "      <td>Classroom</td>\n",
       "      <td>m1</td>\n",
       "      <td>Office</td>\n",
       "      <td>m3</td>\n",
       "      <td>12.357594</td>\n",
       "      <td>0.057451</td>\n",
       "    </tr>\n",
       "    <tr>\n",
       "      <th>6</th>\n",
       "      <td>Classroom</td>\n",
       "      <td>m2</td>\n",
       "      <td>Classroom</td>\n",
       "      <td>m1</td>\n",
       "      <td>40.302887</td>\n",
       "      <td>0.082894</td>\n",
       "    </tr>\n",
       "    <tr>\n",
       "      <th>7</th>\n",
       "      <td>Classroom</td>\n",
       "      <td>m2</td>\n",
       "      <td>Classroom</td>\n",
       "      <td>m2</td>\n",
       "      <td>0.123919</td>\n",
       "      <td>0.960593</td>\n",
       "    </tr>\n",
       "    <tr>\n",
       "      <th>8</th>\n",
       "      <td>Classroom</td>\n",
       "      <td>m2</td>\n",
       "      <td>Classroom</td>\n",
       "      <td>m3</td>\n",
       "      <td>32.196171</td>\n",
       "      <td>0.098053</td>\n",
       "    </tr>\n",
       "    <tr>\n",
       "      <th>9</th>\n",
       "      <td>Classroom</td>\n",
       "      <td>m2</td>\n",
       "      <td>Office</td>\n",
       "      <td>m1</td>\n",
       "      <td>37.394539</td>\n",
       "      <td>0.059303</td>\n",
       "    </tr>\n",
       "    <tr>\n",
       "      <th>10</th>\n",
       "      <td>Classroom</td>\n",
       "      <td>m2</td>\n",
       "      <td>Office</td>\n",
       "      <td>m2</td>\n",
       "      <td>19.322887</td>\n",
       "      <td>0.045754</td>\n",
       "    </tr>\n",
       "    <tr>\n",
       "      <th>11</th>\n",
       "      <td>Classroom</td>\n",
       "      <td>m2</td>\n",
       "      <td>Office</td>\n",
       "      <td>m3</td>\n",
       "      <td>20.024994</td>\n",
       "      <td>0.073315</td>\n",
       "    </tr>\n",
       "    <tr>\n",
       "      <th>12</th>\n",
       "      <td>Classroom</td>\n",
       "      <td>m3</td>\n",
       "      <td>Classroom</td>\n",
       "      <td>m1</td>\n",
       "      <td>26.016933</td>\n",
       "      <td>0.127537</td>\n",
       "    </tr>\n",
       "    <tr>\n",
       "      <th>13</th>\n",
       "      <td>Classroom</td>\n",
       "      <td>m3</td>\n",
       "      <td>Classroom</td>\n",
       "      <td>m2</td>\n",
       "      <td>27.112774</td>\n",
       "      <td>0.041208</td>\n",
       "    </tr>\n",
       "    <tr>\n",
       "      <th>14</th>\n",
       "      <td>Classroom</td>\n",
       "      <td>m3</td>\n",
       "      <td>Classroom</td>\n",
       "      <td>m3</td>\n",
       "      <td>0.066077</td>\n",
       "      <td>0.979662</td>\n",
       "    </tr>\n",
       "    <tr>\n",
       "      <th>15</th>\n",
       "      <td>Classroom</td>\n",
       "      <td>m3</td>\n",
       "      <td>Office</td>\n",
       "      <td>m1</td>\n",
       "      <td>28.500566</td>\n",
       "      <td>0.034708</td>\n",
       "    </tr>\n",
       "    <tr>\n",
       "      <th>16</th>\n",
       "      <td>Classroom</td>\n",
       "      <td>m3</td>\n",
       "      <td>Office</td>\n",
       "      <td>m2</td>\n",
       "      <td>19.833286</td>\n",
       "      <td>0.079310</td>\n",
       "    </tr>\n",
       "    <tr>\n",
       "      <th>17</th>\n",
       "      <td>Classroom</td>\n",
       "      <td>m3</td>\n",
       "      <td>Office</td>\n",
       "      <td>m3</td>\n",
       "      <td>15.752870</td>\n",
       "      <td>0.045988</td>\n",
       "    </tr>\n",
       "    <tr>\n",
       "      <th>18</th>\n",
       "      <td>Office</td>\n",
       "      <td>m1</td>\n",
       "      <td>Classroom</td>\n",
       "      <td>m1</td>\n",
       "      <td>35.711624</td>\n",
       "      <td>0.089134</td>\n",
       "    </tr>\n",
       "    <tr>\n",
       "      <th>19</th>\n",
       "      <td>Office</td>\n",
       "      <td>m1</td>\n",
       "      <td>Classroom</td>\n",
       "      <td>m2</td>\n",
       "      <td>26.653046</td>\n",
       "      <td>0.065519</td>\n",
       "    </tr>\n",
       "    <tr>\n",
       "      <th>20</th>\n",
       "      <td>Office</td>\n",
       "      <td>m1</td>\n",
       "      <td>Classroom</td>\n",
       "      <td>m3</td>\n",
       "      <td>25.829531</td>\n",
       "      <td>0.064447</td>\n",
       "    </tr>\n",
       "    <tr>\n",
       "      <th>21</th>\n",
       "      <td>Office</td>\n",
       "      <td>m1</td>\n",
       "      <td>Office</td>\n",
       "      <td>m1</td>\n",
       "      <td>0.067035</td>\n",
       "      <td>0.983625</td>\n",
       "    </tr>\n",
       "    <tr>\n",
       "      <th>22</th>\n",
       "      <td>Office</td>\n",
       "      <td>m1</td>\n",
       "      <td>Office</td>\n",
       "      <td>m2</td>\n",
       "      <td>32.636345</td>\n",
       "      <td>0.087570</td>\n",
       "    </tr>\n",
       "    <tr>\n",
       "      <th>23</th>\n",
       "      <td>Office</td>\n",
       "      <td>m1</td>\n",
       "      <td>Office</td>\n",
       "      <td>m3</td>\n",
       "      <td>27.644444</td>\n",
       "      <td>0.020708</td>\n",
       "    </tr>\n",
       "    <tr>\n",
       "      <th>24</th>\n",
       "      <td>Office</td>\n",
       "      <td>m2</td>\n",
       "      <td>Classroom</td>\n",
       "      <td>m1</td>\n",
       "      <td>74.017654</td>\n",
       "      <td>0.035866</td>\n",
       "    </tr>\n",
       "    <tr>\n",
       "      <th>25</th>\n",
       "      <td>Office</td>\n",
       "      <td>m2</td>\n",
       "      <td>Classroom</td>\n",
       "      <td>m2</td>\n",
       "      <td>34.904686</td>\n",
       "      <td>0.055032</td>\n",
       "    </tr>\n",
       "    <tr>\n",
       "      <th>26</th>\n",
       "      <td>Office</td>\n",
       "      <td>m2</td>\n",
       "      <td>Classroom</td>\n",
       "      <td>m3</td>\n",
       "      <td>56.383549</td>\n",
       "      <td>0.033709</td>\n",
       "    </tr>\n",
       "    <tr>\n",
       "      <th>27</th>\n",
       "      <td>Office</td>\n",
       "      <td>m2</td>\n",
       "      <td>Office</td>\n",
       "      <td>m1</td>\n",
       "      <td>43.421009</td>\n",
       "      <td>0.077016</td>\n",
       "    </tr>\n",
       "    <tr>\n",
       "      <th>28</th>\n",
       "      <td>Office</td>\n",
       "      <td>m2</td>\n",
       "      <td>Office</td>\n",
       "      <td>m2</td>\n",
       "      <td>0.231735</td>\n",
       "      <td>0.940478</td>\n",
       "    </tr>\n",
       "    <tr>\n",
       "      <th>29</th>\n",
       "      <td>Office</td>\n",
       "      <td>m2</td>\n",
       "      <td>Office</td>\n",
       "      <td>m3</td>\n",
       "      <td>30.131042</td>\n",
       "      <td>0.076522</td>\n",
       "    </tr>\n",
       "    <tr>\n",
       "      <th>30</th>\n",
       "      <td>Office</td>\n",
       "      <td>m3</td>\n",
       "      <td>Classroom</td>\n",
       "      <td>m1</td>\n",
       "      <td>44.498760</td>\n",
       "      <td>0.047534</td>\n",
       "    </tr>\n",
       "    <tr>\n",
       "      <th>31</th>\n",
       "      <td>Office</td>\n",
       "      <td>m3</td>\n",
       "      <td>Classroom</td>\n",
       "      <td>m2</td>\n",
       "      <td>39.902508</td>\n",
       "      <td>0.033210</td>\n",
       "    </tr>\n",
       "    <tr>\n",
       "      <th>32</th>\n",
       "      <td>Office</td>\n",
       "      <td>m3</td>\n",
       "      <td>Classroom</td>\n",
       "      <td>m3</td>\n",
       "      <td>52.647591</td>\n",
       "      <td>0.033402</td>\n",
       "    </tr>\n",
       "    <tr>\n",
       "      <th>33</th>\n",
       "      <td>Office</td>\n",
       "      <td>m3</td>\n",
       "      <td>Office</td>\n",
       "      <td>m1</td>\n",
       "      <td>45.703732</td>\n",
       "      <td>0.052355</td>\n",
       "    </tr>\n",
       "    <tr>\n",
       "      <th>34</th>\n",
       "      <td>Office</td>\n",
       "      <td>m3</td>\n",
       "      <td>Office</td>\n",
       "      <td>m2</td>\n",
       "      <td>29.295559</td>\n",
       "      <td>0.052766</td>\n",
       "    </tr>\n",
       "    <tr>\n",
       "      <th>35</th>\n",
       "      <td>Office</td>\n",
       "      <td>m3</td>\n",
       "      <td>Office</td>\n",
       "      <td>m3</td>\n",
       "      <td>0.094761</td>\n",
       "      <td>0.969262</td>\n",
       "    </tr>\n",
       "  </tbody>\n",
       "</table>\n",
       "</div>"
      ],
      "text/plain": [
       "   train_environments train_monitors test_environments test_monitors  \\\n",
       "0           Classroom             m1         Classroom            m1   \n",
       "1           Classroom             m1         Classroom            m2   \n",
       "2           Classroom             m1         Classroom            m3   \n",
       "3           Classroom             m1            Office            m1   \n",
       "4           Classroom             m1            Office            m2   \n",
       "5           Classroom             m1            Office            m3   \n",
       "6           Classroom             m2         Classroom            m1   \n",
       "7           Classroom             m2         Classroom            m2   \n",
       "8           Classroom             m2         Classroom            m3   \n",
       "9           Classroom             m2            Office            m1   \n",
       "10          Classroom             m2            Office            m2   \n",
       "11          Classroom             m2            Office            m3   \n",
       "12          Classroom             m3         Classroom            m1   \n",
       "13          Classroom             m3         Classroom            m2   \n",
       "14          Classroom             m3         Classroom            m3   \n",
       "15          Classroom             m3            Office            m1   \n",
       "16          Classroom             m3            Office            m2   \n",
       "17          Classroom             m3            Office            m3   \n",
       "18             Office             m1         Classroom            m1   \n",
       "19             Office             m1         Classroom            m2   \n",
       "20             Office             m1         Classroom            m3   \n",
       "21             Office             m1            Office            m1   \n",
       "22             Office             m1            Office            m2   \n",
       "23             Office             m1            Office            m3   \n",
       "24             Office             m2         Classroom            m1   \n",
       "25             Office             m2         Classroom            m2   \n",
       "26             Office             m2         Classroom            m3   \n",
       "27             Office             m2            Office            m1   \n",
       "28             Office             m2            Office            m2   \n",
       "29             Office             m2            Office            m3   \n",
       "30             Office             m3         Classroom            m1   \n",
       "31             Office             m3         Classroom            m2   \n",
       "32             Office             m3         Classroom            m3   \n",
       "33             Office             m3            Office            m1   \n",
       "34             Office             m3            Office            m2   \n",
       "35             Office             m3            Office            m3   \n",
       "\n",
       "    final_loss  final_accuracy  \n",
       "0     0.141291        0.965351  \n",
       "1    11.805790        0.055191  \n",
       "2    11.811633        0.087602  \n",
       "3    14.996040        0.055095  \n",
       "4    18.573046        0.056224  \n",
       "5    12.357594        0.057451  \n",
       "6    40.302887        0.082894  \n",
       "7     0.123919        0.960593  \n",
       "8    32.196171        0.098053  \n",
       "9    37.394539        0.059303  \n",
       "10   19.322887        0.045754  \n",
       "11   20.024994        0.073315  \n",
       "12   26.016933        0.127537  \n",
       "13   27.112774        0.041208  \n",
       "14    0.066077        0.979662  \n",
       "15   28.500566        0.034708  \n",
       "16   19.833286        0.079310  \n",
       "17   15.752870        0.045988  \n",
       "18   35.711624        0.089134  \n",
       "19   26.653046        0.065519  \n",
       "20   25.829531        0.064447  \n",
       "21    0.067035        0.983625  \n",
       "22   32.636345        0.087570  \n",
       "23   27.644444        0.020708  \n",
       "24   74.017654        0.035866  \n",
       "25   34.904686        0.055032  \n",
       "26   56.383549        0.033709  \n",
       "27   43.421009        0.077016  \n",
       "28    0.231735        0.940478  \n",
       "29   30.131042        0.076522  \n",
       "30   44.498760        0.047534  \n",
       "31   39.902508        0.033210  \n",
       "32   52.647591        0.033402  \n",
       "33   45.703732        0.052355  \n",
       "34   29.295559        0.052766  \n",
       "35    0.094761        0.969262  "
      ]
     },
     "execution_count": 90,
     "metadata": {},
     "output_type": "execute_result"
    }
   ],
   "source": [
    "df = results_df.copy()\n",
    "df"
   ]
  },
  {
   "cell_type": "code",
   "execution_count": 180,
   "id": "232e6002",
   "metadata": {},
   "outputs": [
    {
     "data": {
      "image/png": "[encoded data removed]",
      "text/plain": [
       "<Figure size 800x800 with 2 Axes>"
      ]
     },
     "metadata": {},
     "output_type": "display_data"
    }
   ],
   "source": [
    "def plot_all(df):\n",
    "\n",
    "  # Configurações\n",
    "  train_environments = ['Classroom', 'Office']\n",
    "  train_monitors = ['m1', 'm2', 'm3']\n",
    "  test_environments = ['Classroom', 'Office']\n",
    "  test_monitors = ['m1', 'm2', 'm3']\n",
    "  colors = ['#1f77b4',  '#8c564b'] \n",
    "\n",
    "  bar_width = 0.5\n",
    "\n",
    "  x = np.arange(len(train_monitors))  \n",
    "\n",
    "  \n",
    "  rows = len(train_environments)\n",
    "  cols = 1\n",
    "  fig, axs = plt.subplots(rows, cols, figsize=(8, 4*rows), sharex=True)\n",
    "\n",
    "  # Plot\n",
    "  for i, train_environment in enumerate(train_environments):\n",
    "    for j, train_monitor in enumerate(train_monitors):\n",
    "      for k, test_environment in enumerate(test_environments):\n",
    "        for l, test_monitor in enumerate(test_monitors):\n",
    "          accuracy = df[\n",
    "            (df['train_environments'] == train_environment)\n",
    "            & (df['train_monitors'] == train_monitor) \n",
    "            & (df['test_environments'] == test_environment)\n",
    "            & (df['test_monitors'] == test_monitor)]['final_accuracy'].item() * 100\n",
    "          x_pos_index = (j*7 + k*3 + l)\n",
    "          x_pos = x_pos_index * bar_width\n",
    "          bars = axs[i].bar(x_pos, accuracy, width=bar_width*0.97,  label=f'{test_environment}', color=colors[k])\n",
    "\n",
    "          # Adicionar o valor percentual acima de cada barra\n",
    "          for bar in bars:\n",
    "            height = bar.get_height()\n",
    "            axs[i].text(bar.get_x() + bar.get_width()/2, height + 1, f'{test_monitor.upper()} {height:.1f}%', ha='center', va='bottom', fontsize=6)\n",
    "      \n",
    "      # Customizações\n",
    "      axs[i].set_title(f'Performance when trained with {train_environment}')\n",
    "      axs[i].set_ylabel('Accuracy (%)')\n",
    "      axs[i].set_xticks(x + 2.5*bar_width)\n",
    "      axs[i].set_xticklabels(['M1', 'M2', 'M3'])\n",
    "      # axs[i].legend(labels=test_environments)\n",
    "      axs[i].grid(axis='y', linestyle='--', alpha=0.7)  \n",
    "\n",
    "  plt.tight_layout()\n",
    "  plt.show()\n",
    "\n",
    "plot_all(results_df)\n"
   ]
  }
 ],
 "metadata": {
  "kernelspec": {
   "display_name": "tensorflow",
   "language": "python",
   "name": "python3"
  },
  "language_info": {
   "codemirror_mode": {
    "name": "ipython",
    "version": 3
   },
   "file_extension": ".py",
   "mimetype": "text/x-python",
   "name": "python",
   "nbconvert_exporter": "python",
   "pygments_lexer": "ipython3",
   "version": "3.9.19"
  }
 },
 "nbformat": 4,
 "nbformat_minor": 5
}
